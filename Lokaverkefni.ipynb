{
  "nbformat": 4,
  "nbformat_minor": 0,
  "metadata": {
    "colab": {
      "provenance": []
    },
    "kernelspec": {
      "name": "python3",
      "display_name": "Python 3"
    },
    "language_info": {
      "name": "python"
    }
  },
  "cells": [
    {
      "cell_type": "markdown",
      "source": [
        "# **Stundatöflugerð hjá VoN - Vinnubók**"
      ],
      "metadata": {
        "id": "vKFlS1c9psPz"
      }
    },
    {
      "cell_type": "markdown",
      "source": [
        "## **3.3.1 Niðurröðun á námskeiðum**\n",
        "Athugið að í þessum verkþætti koma kennslustofur ekki við sögu. Það eru 5 × 5 hólf í viku,\n",
        "hvert 2 × 40 mínútur. Þar sem gert er ráð fyrir að hvert námskeið sé kennt tvisvar í viku þá\n",
        "má gera ráð fyrir 12 – 13 lausum hólfum í fyrri helmingi vikunnar."
      ],
      "metadata": {
        "id": "5idyGysLG6Sg"
      }
    },
    {
      "cell_type": "markdown",
      "source": [
        "(a) Lesið inn upplýsingar um námskeið á haustmisseri úr namskeid.csv. Útbúið net G =\n",
        "(V, E) þar sem hnútar tákna námskeið og það er leggur milli hnúta u og v ef sami kennari\n",
        "kennir bæði námskeiðin (að öllu leiti eða að hluta). Hvað eru margir hnútar og leggir í\n",
        "netinu?"
      ],
      "metadata": {
        "id": "UYDx45x6HNnr"
      }
    },
    {
      "cell_type": "markdown",
      "source": [
        "Við byrjum á því að uploada skránum okkar"
      ],
      "metadata": {
        "id": "PzKr6Q7UK3zw"
      }
    },
    {
      "cell_type": "code",
      "source": [
        "from google.colab import files\n",
        "uploaded_files = files.upload()"
      ],
      "metadata": {
        "colab": {
          "base_uri": "https://localhost:8080/",
          "height": 109
        },
        "id": "yrjHDuf4HT6X",
        "outputId": "ac95d630-5598-4d5c-aace-847f953d66b5"
      },
      "execution_count": null,
      "outputs": [
        {
          "output_type": "display_data",
          "data": {
            "text/plain": [
              "<IPython.core.display.HTML object>"
            ],
            "text/html": [
              "\n",
              "     <input type=\"file\" id=\"files-5f72f3f4-49e5-4a89-b92a-bd03527e03b6\" name=\"files[]\" multiple disabled\n",
              "        style=\"border:none\" />\n",
              "     <output id=\"result-5f72f3f4-49e5-4a89-b92a-bd03527e03b6\">\n",
              "      Upload widget is only available when the cell has been executed in the\n",
              "      current browser session. Please rerun this cell to enable.\n",
              "      </output>\n",
              "      <script>// Copyright 2017 Google LLC\n",
              "//\n",
              "// Licensed under the Apache License, Version 2.0 (the \"License\");\n",
              "// you may not use this file except in compliance with the License.\n",
              "// You may obtain a copy of the License at\n",
              "//\n",
              "//      http://www.apache.org/licenses/LICENSE-2.0\n",
              "//\n",
              "// Unless required by applicable law or agreed to in writing, software\n",
              "// distributed under the License is distributed on an \"AS IS\" BASIS,\n",
              "// WITHOUT WARRANTIES OR CONDITIONS OF ANY KIND, either express or implied.\n",
              "// See the License for the specific language governing permissions and\n",
              "// limitations under the License.\n",
              "\n",
              "/**\n",
              " * @fileoverview Helpers for google.colab Python module.\n",
              " */\n",
              "(function(scope) {\n",
              "function span(text, styleAttributes = {}) {\n",
              "  const element = document.createElement('span');\n",
              "  element.textContent = text;\n",
              "  for (const key of Object.keys(styleAttributes)) {\n",
              "    element.style[key] = styleAttributes[key];\n",
              "  }\n",
              "  return element;\n",
              "}\n",
              "\n",
              "// Max number of bytes which will be uploaded at a time.\n",
              "const MAX_PAYLOAD_SIZE = 100 * 1024;\n",
              "\n",
              "function _uploadFiles(inputId, outputId) {\n",
              "  const steps = uploadFilesStep(inputId, outputId);\n",
              "  const outputElement = document.getElementById(outputId);\n",
              "  // Cache steps on the outputElement to make it available for the next call\n",
              "  // to uploadFilesContinue from Python.\n",
              "  outputElement.steps = steps;\n",
              "\n",
              "  return _uploadFilesContinue(outputId);\n",
              "}\n",
              "\n",
              "// This is roughly an async generator (not supported in the browser yet),\n",
              "// where there are multiple asynchronous steps and the Python side is going\n",
              "// to poll for completion of each step.\n",
              "// This uses a Promise to block the python side on completion of each step,\n",
              "// then passes the result of the previous step as the input to the next step.\n",
              "function _uploadFilesContinue(outputId) {\n",
              "  const outputElement = document.getElementById(outputId);\n",
              "  const steps = outputElement.steps;\n",
              "\n",
              "  const next = steps.next(outputElement.lastPromiseValue);\n",
              "  return Promise.resolve(next.value.promise).then((value) => {\n",
              "    // Cache the last promise value to make it available to the next\n",
              "    // step of the generator.\n",
              "    outputElement.lastPromiseValue = value;\n",
              "    return next.value.response;\n",
              "  });\n",
              "}\n",
              "\n",
              "/**\n",
              " * Generator function which is called between each async step of the upload\n",
              " * process.\n",
              " * @param {string} inputId Element ID of the input file picker element.\n",
              " * @param {string} outputId Element ID of the output display.\n",
              " * @return {!Iterable<!Object>} Iterable of next steps.\n",
              " */\n",
              "function* uploadFilesStep(inputId, outputId) {\n",
              "  const inputElement = document.getElementById(inputId);\n",
              "  inputElement.disabled = false;\n",
              "\n",
              "  const outputElement = document.getElementById(outputId);\n",
              "  outputElement.innerHTML = '';\n",
              "\n",
              "  const pickedPromise = new Promise((resolve) => {\n",
              "    inputElement.addEventListener('change', (e) => {\n",
              "      resolve(e.target.files);\n",
              "    });\n",
              "  });\n",
              "\n",
              "  const cancel = document.createElement('button');\n",
              "  inputElement.parentElement.appendChild(cancel);\n",
              "  cancel.textContent = 'Cancel upload';\n",
              "  const cancelPromise = new Promise((resolve) => {\n",
              "    cancel.onclick = () => {\n",
              "      resolve(null);\n",
              "    };\n",
              "  });\n",
              "\n",
              "  // Wait for the user to pick the files.\n",
              "  const files = yield {\n",
              "    promise: Promise.race([pickedPromise, cancelPromise]),\n",
              "    response: {\n",
              "      action: 'starting',\n",
              "    }\n",
              "  };\n",
              "\n",
              "  cancel.remove();\n",
              "\n",
              "  // Disable the input element since further picks are not allowed.\n",
              "  inputElement.disabled = true;\n",
              "\n",
              "  if (!files) {\n",
              "    return {\n",
              "      response: {\n",
              "        action: 'complete',\n",
              "      }\n",
              "    };\n",
              "  }\n",
              "\n",
              "  for (const file of files) {\n",
              "    const li = document.createElement('li');\n",
              "    li.append(span(file.name, {fontWeight: 'bold'}));\n",
              "    li.append(span(\n",
              "        `(${file.type || 'n/a'}) - ${file.size} bytes, ` +\n",
              "        `last modified: ${\n",
              "            file.lastModifiedDate ? file.lastModifiedDate.toLocaleDateString() :\n",
              "                                    'n/a'} - `));\n",
              "    const percent = span('0% done');\n",
              "    li.appendChild(percent);\n",
              "\n",
              "    outputElement.appendChild(li);\n",
              "\n",
              "    const fileDataPromise = new Promise((resolve) => {\n",
              "      const reader = new FileReader();\n",
              "      reader.onload = (e) => {\n",
              "        resolve(e.target.result);\n",
              "      };\n",
              "      reader.readAsArrayBuffer(file);\n",
              "    });\n",
              "    // Wait for the data to be ready.\n",
              "    let fileData = yield {\n",
              "      promise: fileDataPromise,\n",
              "      response: {\n",
              "        action: 'continue',\n",
              "      }\n",
              "    };\n",
              "\n",
              "    // Use a chunked sending to avoid message size limits. See b/62115660.\n",
              "    let position = 0;\n",
              "    do {\n",
              "      const length = Math.min(fileData.byteLength - position, MAX_PAYLOAD_SIZE);\n",
              "      const chunk = new Uint8Array(fileData, position, length);\n",
              "      position += length;\n",
              "\n",
              "      const base64 = btoa(String.fromCharCode.apply(null, chunk));\n",
              "      yield {\n",
              "        response: {\n",
              "          action: 'append',\n",
              "          file: file.name,\n",
              "          data: base64,\n",
              "        },\n",
              "      };\n",
              "\n",
              "      let percentDone = fileData.byteLength === 0 ?\n",
              "          100 :\n",
              "          Math.round((position / fileData.byteLength) * 100);\n",
              "      percent.textContent = `${percentDone}% done`;\n",
              "\n",
              "    } while (position < fileData.byteLength);\n",
              "  }\n",
              "\n",
              "  // All done.\n",
              "  yield {\n",
              "    response: {\n",
              "      action: 'complete',\n",
              "    }\n",
              "  };\n",
              "}\n",
              "\n",
              "scope.google = scope.google || {};\n",
              "scope.google.colab = scope.google.colab || {};\n",
              "scope.google.colab._files = {\n",
              "  _uploadFiles,\n",
              "  _uploadFilesContinue,\n",
              "};\n",
              "})(self);\n",
              "</script> "
            ]
          },
          "metadata": {}
        },
        {
          "output_type": "stream",
          "name": "stdout",
          "text": [
            "Saving namskeid.csv to namskeid.csv\n",
            "Saving stofur.csv to stofur.csv\n"
          ]
        }
      ]
    },
    {
      "cell_type": "code",
      "source": [
        "import pandas as pd\n",
        "import matplotlib.pyplot as plt\n",
        "\n",
        "# Lesum inn stundaskrána\n",
        "df = pd.read_csv('namskeid.csv')\n",
        "\n",
        "# Skilgreinum hnúta netsins\n",
        "G={}\n",
        "for i in range(0,len(df)):\n",
        "  G[df.iloc[i,1]]=[]\n",
        "\n",
        "# Skilgreinum leggi netsins\n",
        "\n",
        "\"\"\" Fall sem skilar true ef sami kennari kennir námskeið í línu i og í línu j \"\"\"\n",
        "def Same_Teacher(i,j):\n",
        "  s = str(df.iloc[i,5])\n",
        "  t = str(df.iloc[j,5])\n",
        "  iTeachers = s.split(\",\")\n",
        "  jTeachers = t.split(\",\")\n",
        "  for x in iTeachers:\n",
        "    for y in jTeachers:\n",
        "      if x==y:\n",
        "        return True\n",
        "  return False\n",
        "\n",
        "for i in range(0,len(df)):\n",
        "  for j in range(i+1,len(df)):\n",
        "    if Same_Teacher(i,j):\n",
        "      G[df.iloc[i,1]].append(df.iloc[j,1])\n",
        "      G[df.iloc[j,1]].append(df.iloc[i,1])\n",
        "\n",
        "# Finnum fjölda hnúta\n",
        "print(\"Fjöldi hnúta: \", len(G))\n",
        "\n",
        "# Finnum fjölda leggja\n",
        "def Num_Edge(L):\n",
        "  numEdge = 0\n",
        "  for v in L:\n",
        "    numEdge = numEdge + len(L[v])\n",
        "  return int(numEdge/2)\n",
        "\n",
        "print(\"Fjöldi leggja er: \" , Num_Edge(G))\n",
        "\n"
      ],
      "metadata": {
        "colab": {
          "base_uri": "https://localhost:8080/"
        },
        "id": "VrF6VjB5Oft-",
        "outputId": "0ca65605-c0b2-4c18-e6f9-594e96895307"
      },
      "execution_count": null,
      "outputs": [
        {
          "output_type": "stream",
          "name": "stdout",
          "text": [
            "Fjöldi hnúta:  502\n",
            "Fjöldi leggja er:  1794\n"
          ]
        }
      ]
    },
    {
      "cell_type": "markdown",
      "source": [
        "(b) Notið gráðuga reikniritið sem lýst er hér: https://en.wikipedia.org/wiki/Greedy_\n",
        "coloring til að lita netið í a) fyrir öll námskeið á haustmisseri. Hversu marga liti þarf\n",
        "til að lita netið með þessari aðferð?"
      ],
      "metadata": {
        "id": "qINqeKiDTQCL"
      }
    },
    {
      "cell_type": "code",
      "source": [
        "from ast import Lt\n",
        "\n",
        "# Aðferð sem finnur fyrsta lausa litinn í fylki af litum\n",
        "def first_available(colors):\n",
        "    color = 0\n",
        "    while color in colors:\n",
        "        color += 1\n",
        "    return color\n",
        "\n",
        "# Aðferð sem finnur litun á neti L þegar ítrað er í gegnum þá í röð order\n",
        "def greedy_coloring(L, order):\n",
        "    coloring = dict()\n",
        "    for node in order:\n",
        "        used_neighbour_colors = {coloring[nbr]\n",
        "                                 for nbr in L[node]\n",
        "                                 if nbr in coloring}\n",
        "        coloring[node] = first_available(used_neighbour_colors)\n",
        "    return coloring\n",
        "\n",
        "# Aðferð sem að finnur litunartölu nets út frá litun\n",
        "def coloring_number(coloring):\n",
        "  lt = 0\n",
        "  for u in coloring:\n",
        "    if coloring[u]>lt:\n",
        "      lt = coloring[u]\n",
        "  return lt+1\n",
        "\n",
        "# Skoðum net allra áfanga háskólans á haustönn\n",
        "G_Haust = {}\n",
        "\n",
        "# Skilgreinum hnúta\n",
        "for i in range(0,len(df)):\n",
        "  if df.iloc[i,4]==\"Haust\":\n",
        "    G_Haust[df.iloc[i,1]]=[]\n",
        "\n",
        "# Skilgreinum leggi\n",
        "for i in range(0,len(df)):\n",
        "  for j in range(i+1,len(df)):\n",
        "    if df.iloc[i,4]==\"Haust\" and df.iloc[j,4]==\"Haust\":\n",
        "      if Same_Teacher(i,j):\n",
        "        G_Haust[df.iloc[i,1]].append(df.iloc[j,1])\n",
        "        G_Haust[df.iloc[j,1]].append(df.iloc[i,1])\n",
        "\n",
        "# Höfum litun netsins\n",
        "litun = greedy_coloring(G_Haust, G_Haust)\n",
        "\n",
        "print(\"Litunartala netsins G_Haust er: \", coloring_number(litun))\n"
      ],
      "metadata": {
        "colab": {
          "base_uri": "https://localhost:8080/"
        },
        "id": "-3KtsKfDhKeX",
        "outputId": "41f5004e-d2cf-4c9b-d98b-428af7893062"
      },
      "execution_count": null,
      "outputs": [
        {
          "output_type": "stream",
          "name": "stdout",
          "text": [
            "Litunartala netsins G_Haust er:  9\n"
          ]
        }
      ]
    },
    {
      "cell_type": "markdown",
      "source": [
        "(c) Bætið við þeirri skorðu að skyldunámskeið sem eru á sama misseri í einhverri náms-\n",
        "braut/kjörsviði (sbr. t.d. TÖL101G og TÖL104G á almenna kjörsviðinu í tölvunarfræði)\n",
        "séu ekki kennd á sama tíma. Hver verður fjöldi hnúta og leggja nú? Hversu marga liti\n",
        "þarf til að lita netið með gráðugu aðferðinni í b)?"
      ],
      "metadata": {
        "id": "1lOONPrDjgFK"
      }
    },
    {
      "cell_type": "code",
      "source": [
        "# Aðferð sem athugar hvort áfangi í i-tu línu sé skylda á sömu námsbraut og sama námsári og áfangi í j-tu línu\n",
        "def skylda(i,j):\n",
        "  s = str(df.iloc[i,7]) # skyldur i\n",
        "  t = str(df.iloc[j,7]) # skydur j\n",
        "  if s == \"nan\" or t == \"nan\":\n",
        "    return False\n",
        "  iSkyldur = s.split(\"|\")\n",
        "  jSkyldur = t.split(\"|\")\n",
        "  for x in iSkyldur:\n",
        "    for y in jSkyldur:\n",
        "      if(x == y and df.iloc[i,4] == df.iloc[j,4] ):\n",
        "        return True\n",
        "  return False;\n",
        "\n",
        "\n",
        "# Skoðum net með öllum áföngum\n",
        "print(\"Fyrir net með öllum áföngum\")\n",
        "\n",
        "GG = {}\n",
        "\n",
        "# Skilgreinum hnúta netsins\n",
        "for i in range(0,len(df)):\n",
        "  GG[df.iloc[i,1]]=[]\n",
        "\n",
        "# Skilgreinum leggi netsins\n",
        "for i in range(0,len(df)):\n",
        "  for j in range(i+1,len(df)):\n",
        "    if skylda(i,j) or Same_Teacher(i,j): # Leggur ef sami kennari eða skylda\n",
        "      GG[df.iloc[i,1]].append(df.iloc[j,1])\n",
        "      GG[df.iloc[j,1]].append(df.iloc[i,1])\n",
        "\n",
        "# Finnum fjölda hnúta\n",
        "print(\"Fjöldi hnúta: \", len(GG))\n",
        "\n",
        "# Finnum fjölda leggja\n",
        "print(\"Fjöldi leggja er: \" , Num_Edge(GG))\n",
        "\n",
        "# Finnum litunartölu\n",
        "print(\"Litunartala netsins er: \", coloring_number(greedy_coloring(GG, GG)))\n",
        "\n",
        "\n",
        "\n",
        "\n",
        "# Skoðum námskeið aðeins á haustönn:\n",
        "GG_Haust = {}\n",
        "print(\"\\nÁfangar aðeins á haustönn\")\n",
        "\n",
        "# Skilgreinum hnúta\n",
        "for i in range(0,len(df)):\n",
        "  if df.iloc[i,4]==\"Haust\":\n",
        "    GG_Haust[df.iloc[i,1]]=[]\n",
        "\n",
        "# Skilgreinum leggi\n",
        "for i in range(0,len(df)):\n",
        "  for j in range(i+1,len(df)):\n",
        "    if df.iloc[i,4]==\"Haust\" and df.iloc[j,4]==\"Haust\":\n",
        "      if skylda(i,j) or Same_Teacher(i,j):\n",
        "        GG_Haust[df.iloc[i,1]].append(df.iloc[j,1])\n",
        "        GG_Haust[df.iloc[j,1]].append(df.iloc[i,1])\n",
        "\n",
        "\n",
        "\n",
        "# Finnum fjölda hnúta\n",
        "print(\"Fjöldi hnúta: \", len(GG_Haust))\n",
        "\n",
        "# Finnum fjölda leggja\n",
        "print(\"Fjöldi leggja er: \" , Num_Edge(GG_Haust))\n",
        "\n",
        "# Finnum litunartölu\n",
        "print(\"Litunartala netsins er: \", coloring_number(greedy_coloring(GG_Haust, GG_Haust)))\n"
      ],
      "metadata": {
        "colab": {
          "base_uri": "https://localhost:8080/"
        },
        "id": "4lLNwAuVjrtk",
        "outputId": "34c209f8-165a-415f-de5b-5159eca3304c"
      },
      "execution_count": null,
      "outputs": [
        {
          "output_type": "stream",
          "name": "stdout",
          "text": [
            "Fyrir net með öllum áföngum\n",
            "Fjöldi hnúta:  502\n",
            "Fjöldi leggja er:  2615\n",
            "Litunartala netsins er:  27\n",
            "\n",
            "Áfangar aðeins á haustönn\n",
            "Fjöldi hnúta:  249\n",
            "Fjöldi leggja er:  840\n",
            "Litunartala netsins er:  10\n"
          ]
        }
      ]
    },
    {
      "cell_type": "markdown",
      "source": [
        "(d) Setjið fram stundatöflur fyrir 2 – 3 valdar námsbrautir, t.d. almenna kjörsviðið í tölv-\n",
        "unarfræði, hugbúnaðarverkfræði og (hagnýtta) stærðfræði. Leitist við að setja töflurnar\n",
        "fram með snyrtilegum hætti."
      ],
      "metadata": {
        "id": "S9vRa8tPm3uT"
      }
    },
    {
      "cell_type": "code",
      "source": [
        "from tabulate import tabulate\n",
        "import networkx as nx\n",
        "import matplotlib.pyplot as plt\n",
        "\n",
        "# Við höfum þrjár námsbrautir\n",
        "tol = '1_Tölvunarfræði, BS (180 einingar)_Almenn tölvunarfræði'\n",
        "hbv = \"1_Hugbúnaðarverkfræði, BS (180 einingar)\"\n",
        "stae = \"1_Stærðfræði, BS (180 einingar)_Tölvunarfræði\"\n",
        "\n",
        "\n",
        "GGG = {} # Net skylduáfanga á haustönn í þremur ofangreindum áföngum\n",
        "\n",
        "numlist={} # Heldur utan um línunúmer valdra áfanga í df\n",
        "\n",
        "\n",
        "# Skilgreinir hnúta netsins\n",
        "for i in range(0,len(df)):\n",
        "  study_line = str(df.iloc[i,7]).split(\"|\")\n",
        "  if df.iloc[i,4] == \"Haust\":\n",
        "    if tol in study_line or hbv in study_line or stae in study_line:\n",
        "      GGG[df.iloc[i,1]]=[]\n",
        "      numlist[df.iloc[i,1]] = i\n",
        "\n",
        "# Skigreinir leggi netsins\n",
        "for i in range(0,len(GGG)):\n",
        "  for j in range(i+1,len(GGG)):\n",
        "    x = numlist[list(GGG)[i]]\n",
        "    y = numlist[list(GGG)[j]]\n",
        "    if skylda(x,y) or Same_Teacher(x,y):\n",
        "      GGG[df.iloc[x,1]].append(df.iloc[y,1])\n",
        "      GGG[df.iloc[y,1]].append(df.iloc[x,1])\n",
        "\n",
        "# Finnum fjölda hnúta\n",
        "print(\"Fjöldi hnúta: \", len(GGG))\n",
        "\n",
        "# Finnum fjölda leggja\n",
        "print(\"Fjöldi leggja er: \" , Num_Edge(GGG))\n",
        "\n",
        "# Finnum litunartölu\n",
        "litun = greedy_coloring(GGG, GGG)\n",
        "print(\"Litunartala netsins er: \", coloring_number(litun))\n",
        "\n"
      ],
      "metadata": {
        "colab": {
          "base_uri": "https://localhost:8080/"
        },
        "id": "h8OWKcMlm-St",
        "outputId": "41442b51-8a9c-4501-e8e1-9f4795e6de4b"
      },
      "execution_count": null,
      "outputs": [
        {
          "output_type": "stream",
          "name": "stdout",
          "text": [
            "Fjöldi hnúta:  8\n",
            "Fjöldi leggja er:  23\n",
            "Litunartala netsins er:  6\n"
          ]
        }
      ]
    },
    {
      "cell_type": "markdown",
      "source": [
        "Notum NetworkX pakkann auk matplotlib til þess að skoða netið myndrænt."
      ],
      "metadata": {
        "id": "UiZoiO1XV3U4"
      }
    },
    {
      "cell_type": "code",
      "source": [
        "# Skoðum netið myndrænt\n",
        "GGG_graph = nx.Graph(GGG)\n",
        "available_colors = ['skyblue', 'lightgreen','salmon', 'yellow', 'orange', 'pink']\n",
        "node_colors = [\"0\"]*len(GGG)\n",
        "for i in range(0,len(GGG)):\n",
        "  node_colors[i]=available_colors[litun[list(GGG)[i]]]\n",
        "nx.draw(GGG_graph, with_labels=True, node_color=node_colors, node_size=1000, font_size=12)\n",
        "plt.title(\"Skyldáfangar á fyrstu haustönn á völdum námsleiðum\")\n",
        "plt.show()"
      ],
      "metadata": {
        "colab": {
          "base_uri": "https://localhost:8080/",
          "height": 539
        },
        "id": "rsSJnCKBWAfA",
        "outputId": "0cf8a426-821a-4909-e042-45e77c29df80"
      },
      "execution_count": null,
      "outputs": [
        {
          "output_type": "display_data",
          "data": {
            "text/plain": [
              "<Figure size 640x480 with 1 Axes>"
            ],
            "image/png": "[encoded data removed]"
          },
          "metadata": {}
        }
      ]
    },
    {
      "cell_type": "markdown",
      "source": [
        "Búum til stundatöflu fyrir þessi námskeið. Við höfum að ef tvö námskeið hafa sama lit er ekki til leggur milli þeirra og þ.a.l. geta þau verið kennd á sama tíma. Við höfum sýnt að litunartala netsins GGG að framan er 6 svo í mesta lagi þarf 12 sæti í stundatöfluna þar sem að tvær kennslustundir eru í viku. Við getum því raðað gráðugt námskeiðunum inn í stundaskrána. Ef við g.r.f að fyrri hluti stundatöflu hafi 12 sæti látum við námskeið með lit i fara í sæti i."
      ],
      "metadata": {
        "id": "TGmHxk03SjM_"
      }
    },
    {
      "cell_type": "code",
      "source": [
        "# Búum til stundatöflur\n",
        "time_table = [[[],[],[],[],[]],[[],[],[],[],[]],[[],[],[],[],[]],[[],[],[],[],[]],[[],[],[],[],[]]]\n",
        "for x in GGG: # Tímar í fyrri hluta vikunnar\n",
        "    litur = int(litun[x])\n",
        "    slot = int(litur%5)\n",
        "    day = int((litur-(litur%5))/5)\n",
        "    time_table[slot][day].append(x)\n",
        "for x in GGG: # Tímar í seinni hluta vikunnar\n",
        "    litur = int(litun[x])+12\n",
        "    slot = int(litur%5)\n",
        "    day = int((litur-(litur%5))/5)\n",
        "    time_table[slot][day].append(x)\n",
        "\n",
        "\n",
        "\n",
        "head=[\"mánudagur\", \"þriðjudagur\", \"miðvikudagur\", \"fimmtudagur\", \"föstudagur\"]\n",
        "\n",
        "print(tabulate(time_table, headers=head, tablefmt=\"grid\"))"
      ],
      "metadata": {
        "colab": {
          "base_uri": "https://localhost:8080/"
        },
        "id": "04kH2JznSfMn",
        "outputId": "e0a41398-bab5-4182-c13d-9b2bd419cc35"
      },
      "execution_count": null,
      "outputs": [
        {
          "output_type": "stream",
          "name": "stdout",
          "text": [
            "+------------------------+---------------+------------------------+---------------+--------------+\n",
            "| mánudagur              | þriðjudagur   | miðvikudagur           | fimmtudagur   | föstudagur   |\n",
            "+========================+===============+========================+===============+==============+\n",
            "| ['HBV101G', 'STÆ105G'] | ['TÖL108G']   | []                     | ['TÖL101G']   | []           |\n",
            "+------------------------+---------------+------------------------+---------------+--------------+\n",
            "| ['STÆ104G', 'TÖL107G'] | []            | []                     | ['TÖL104G']   | []           |\n",
            "+------------------------+---------------+------------------------+---------------+--------------+\n",
            "| ['STÆ107G']            | []            | ['HBV101G', 'STÆ105G'] | ['TÖL108G']   | []           |\n",
            "+------------------------+---------------+------------------------+---------------+--------------+\n",
            "| ['TÖL101G']            | []            | ['STÆ104G', 'TÖL107G'] | []            | []           |\n",
            "+------------------------+---------------+------------------------+---------------+--------------+\n",
            "| ['TÖL104G']            | []            | ['STÆ107G']            | []            | []           |\n",
            "+------------------------+---------------+------------------------+---------------+--------------+\n"
          ]
        }
      ]
    },
    {
      "cell_type": "markdown",
      "source": [
        "## **3.3.2 Niðurröðun námskeiða í kennslustofur**"
      ],
      "metadata": {
        "id": "B8nKRq7-w54l"
      }
    },
    {
      "cell_type": "markdown",
      "source": [
        "(a) Með gráðugu aðferðinni í 3.3.1 getur fjöldi námskeiða í sama tímahólfi hæglega orðið\n",
        "meiri en fjölda kennslustofa sem er til umráða. Breytið gráðuga reikniritinu þannig að\n",
        "það séu mest s_max hnútar litaðir í sama lit. Hver er minnsti fjöldi lita sem þarf til, þegar\n",
        "s_max er á bilinu 28 – 32?"
      ],
      "metadata": {
        "id": "naVMohr-xGp9"
      }
    },
    {
      "cell_type": "code",
      "source": [
        "from ast import Lt\n",
        "def first_available(colors):\n",
        "    color = 0\n",
        "    while color in colors:\n",
        "        color += 1\n",
        "    return color\n",
        "\n",
        "# Finnur litun ef aðeins limit fjöldi má vera afhverjum lit.\n",
        "def greedy_coloring_limit(L, order, limit):\n",
        "    coloring = dict()\n",
        "    color_count = [0]*len(L)\n",
        "    for node in order:\n",
        "        used_neighbour_colors = {coloring[nbr]\n",
        "                                 for nbr in L[node]\n",
        "                                 if nbr in coloring}\n",
        "        \"\"\"\n",
        "        Hérna bætum við skorðunni að ef það eru of margir hnútar af næsta lit\n",
        "        bætum við honum við mengi lita nágranna þ.e.a.s ólöglegra lita. Við upp-\n",
        "        færum svo fjöldan af hnútum af hverjum lit.\n",
        "        \"\"\"\n",
        "        while color_count[first_available(used_neighbour_colors)] >= limit:\n",
        "          used_neighbour_colors.add(first_available(used_neighbour_colors))\n",
        "\n",
        "        color = first_available(used_neighbour_colors)\n",
        "        coloring[node] = color\n",
        "        color_count[color] = color_count[color]+1\n",
        "    return coloring\n",
        "\n",
        "def coloring_number(coloring):\n",
        "  lt = 0\n",
        "  for u in coloring:\n",
        "    if coloring[u] > lt:\n",
        "      lt = coloring[u]\n",
        "  return lt+1\n",
        "\n",
        "print(\"Litunartala nets áfanga á haustönn með mismunani gildum á limit.\\n\")\n",
        "for i in range(28,33):\n",
        "  print(\"Litunartala netsins með limit =\",i,\" er : \", coloring_number(greedy_coloring_limit(GG_Haust, GG_Haust,i)))\n",
        "\n",
        "print(\"\\nLitunartala nets áfanga á öllu árinu með mismunani gildum á limit.\\n\")\n",
        "for i in range(28,33):\n",
        "  print(\"Litunartala netsins með limit =\",i,\" er : \", coloring_number(greedy_coloring_limit(GG, GG,i)))"
      ],
      "metadata": {
        "colab": {
          "base_uri": "https://localhost:8080/"
        },
        "id": "hWQL2ri8xV7H",
        "outputId": "357e60ad-a2fb-491a-d707-54654474d333"
      },
      "execution_count": null,
      "outputs": [
        {
          "output_type": "stream",
          "name": "stdout",
          "text": [
            "Litunartala nets áfanga á haustönn með mismunani gildum á limit.\n",
            "\n",
            "Litunartala netsins með limit = 28  er :  13\n",
            "Litunartala netsins með limit = 29  er :  12\n",
            "Litunartala netsins með limit = 30  er :  12\n",
            "Litunartala netsins með limit = 31  er :  12\n",
            "Litunartala netsins með limit = 32  er :  12\n",
            "\n",
            "Litunartala nets áfanga á öllu árinu með mismunani gildum á limit.\n",
            "\n",
            "Litunartala netsins með limit = 28  er :  27\n",
            "Litunartala netsins með limit = 29  er :  27\n",
            "Litunartala netsins með limit = 30  er :  27\n",
            "Litunartala netsins með limit = 31  er :  27\n",
            "Litunartala netsins með limit = 32  er :  27\n"
          ]
        }
      ]
    },
    {
      "cell_type": "markdown",
      "source": [
        "(b) Stillið upp tvíhlutaneti H þar sem hnútar svara til námskeiða annars vegar og kennslu-\n",
        "stofa hins vegar. Setjið legg milli námskeiðs n og stofu s ef fjöldi nemenda í n er ekki\n",
        "meiri en fjöldi sæta í s. Athugið að tölur yfir nemendafjölda miða við fjölda sem luku\n",
        "námskeiði. Þar sem fjöldi í námskeiðum í upphafi misseris er oft talsvert meiri en þetta\n",
        "þá þurfið þið að margfalda nemendafjöldann með vel völdum fasta. Fjöldatala −1 táknar\n",
        "að námskeiðið hefur ekki verið kennt síðustu 2 ár. Í þessum tilfellum má gera ráð fyrir\n",
        "að viðkomandi námskeið sé fámennt. Hver er fjöldi hnúta og fjöldi leggja í H?"
      ],
      "metadata": {
        "id": "P0uhuEU-1rXq"
      }
    },
    {
      "cell_type": "markdown",
      "source": [
        "Farið var yfir öll námskeið sem höfundar höfðu klárað og skoðað upphaflegan skráningarfjöldan miðað við endanlega fjölda sem stóðst áfangann. Látum $U_x$ tákna upphaflegan skráningarfjölda og $E_x$ fjölda nemenda sem stóðust endanlega ákveðið námskeið x. Við höfum samband\n",
        "\n",
        "$U_x=c\\cdot E_x$\n",
        "\n",
        "þar sem $c$ er einhver fasti. Ef við látum $X$ tákna öll námskeið sem höfundar hafa tekið fæst að\n",
        "\n",
        "$\\min\\{c:U_x=c\\cdot E_x \\text{ fyrir eitthvert } x\\in X\\} = 1.20$\n",
        "$\\max\\{c:U_x=c\\cdot E_x \\text{ fyrir eitthvert } x\\in X\\} = 3.23$\n",
        "$\\text{mean}\\{c:U_x=c\\cdot E_x \\text{ fyrir eitthvert } x\\in X\\} = 2.20$\n",
        "$\\text{median}\\{c:U_x=c\\cdot E_x \\text{ fyrir eitthvert } x\\in X\\} = 2.12$\n",
        "\n",
        "Af þessu má því velja fasta c þ.a. $U\\approx c\\cdot E$ fyrir öll námskeið. Við athugum hinsvegar að"
      ],
      "metadata": {
        "id": "E0mekrcVSHlc"
      }
    },
    {
      "cell_type": "code",
      "source": [
        "# Lesum inn stundaskrána\n",
        "ds = pd.read_csv('stofur.csv')\n",
        "\n",
        "max_student_count=max(df.iloc[:,6])\n",
        "\n",
        "max_room_size = 0\n",
        "\n",
        "for i in range(len(ds)):\n",
        "  lines = str(ds.iloc[i,0]).split(\"\\t\")\n",
        "  size = int(lines[1])\n",
        "  max_room_size = max(max_room_size,size)\n",
        "\n",
        "print(\"Mestur fjöldi nemenda sem stóðust eitthvert námskeið: \", max_student_count)\n",
        "print(\"Fjöldi sæta í stærstu kennslustofu: \", max_room_size)\n",
        "print(\"Hlutfall milli mesta fjölda sæta og mesta fjölda nemenda sem stóðust: \", max_room_size / max_student_count)"
      ],
      "metadata": {
        "id": "DygYDKQqSQxH",
        "colab": {
          "base_uri": "https://localhost:8080/"
        },
        "outputId": "eccd6870-7e6b-4f4c-bdd9-e0327811b635"
      },
      "execution_count": null,
      "outputs": [
        {
          "output_type": "stream",
          "name": "stdout",
          "text": [
            "Mestur fjöldi nemenda sem stóðust eitthvert námskeið:  190\n",
            "Fjöldi sæta í stærstu kennslustofu:  296\n",
            "Hlutfall milli mesta fjölda sæta og mesta fjölda nemenda sem stóðust:  1.5578947368421052\n"
          ]
        }
      ]
    },
    {
      "cell_type": "markdown",
      "source": [
        "Hér má því sjá að ef $c\\geq 1.56$ þá fáum við námskeið sem passar ekki í neina stofu. Út frá þessu og mælingum að framan veljum við þá $c=1.5$ sem fasta til þess að áætla upphaflegan skráningarfjölda."
      ],
      "metadata": {
        "id": "e9JgL_CkSPpp"
      }
    },
    {
      "cell_type": "code",
      "source": [
        "# Smíðum net\n",
        "S = {}\n",
        "\n",
        "# Hnútar sem tákna námskeið skilgreindir\n",
        "for i in range(0,len(df)):\n",
        "  S[df.iloc[i,1]]=[]\n",
        "\n",
        "# Hnútar sem tákna kennslustofur auk leggja skilgreindir\n",
        "for i in range(0, len(ds)):\n",
        "  S[ds.iloc[i,0]]=[]\n",
        "  for j in range(0, len(df)):\n",
        "    size = str(ds.iloc[i,0]).split(\"\\t\")\n",
        "    \"\"\"\n",
        "    Ekki þarf að tækla sérstaklega tilvikin þegar fjöldatalan er -1. Við gerum þá ráð fyrir að námskeiðin séu\n",
        "    fámenn og komist þ.a.l. fyrir í sérhverri stofu. Nú því -1 < stærð stofu fyrir sérhverja stofu er settur\n",
        "    leggur milli námskeiðsins og sérhverrar stofur sem er það sem við viljum.\n",
        "    \"\"\"\n",
        "    if int(df.iloc[j,6])*1.5 <= int(size[1]) :\n",
        "      S[df.iloc[j,1]].append(ds.iloc[i,0])\n",
        "      S[ds.iloc[i,0]].append(df.iloc[j,1])\n",
        "\n",
        "# Finnum fjölda hnúta\n",
        "print(\"Fjöldi hnúta: \", len(S))\n",
        "\n",
        "# Finnum fjölda leggja\n",
        "print(\"Fjöldi leggja er: \" , Num_Edge(S))\n",
        "\n",
        "# Finnum litunartölu\n",
        "litun_S = greedy_coloring(S, S)\n",
        "print(\"Litunartala netsins er: \", coloring_number(litun_S))"
      ],
      "metadata": {
        "id": "EYQtk_Hg14pk",
        "colab": {
          "base_uri": "https://localhost:8080/"
        },
        "outputId": "b01245d5-b366-43b1-a968-252bcb95d73e"
      },
      "execution_count": null,
      "outputs": [
        {
          "output_type": "stream",
          "name": "stdout",
          "text": [
            "Fjöldi hnúta:  534\n",
            "Fjöldi leggja er:  12504\n",
            "Litunartala netsins er:  2\n"
          ]
        }
      ]
    },
    {
      "cell_type": "markdown",
      "source": [
        "(c) Ákvarðið stærstu spyrðingu í H með viðeigandi reikniriti. Sjá t.d. yfirfærslu frá mesta\n",
        "flæði (greinar 10.1, 10.3 og 11.3 í Erickson ásamt https://en.wikipedia.org/wiki/\n",
        "Ford-Fulkerson_algorithm)."
      ],
      "metadata": {
        "id": "Yg5I3VjjLXQe"
      }
    },
    {
      "cell_type": "code",
      "source": [
        "import collections\n",
        "\n",
        "# Yfirfærum S í net SS sem er sett fram með fylki þ.a.\n",
        "\n",
        "SS = [[0 for _ in range(534)] for _ in range(534)]\n",
        "\n",
        "for i in range(0,502):\n",
        "  for j in range(502,534):\n",
        "    size = int(str(ds.iloc[j-502,0]).split(\"\\t\")[1])\n",
        "    if df.iloc[i,6]*1.5<=size:\n",
        "      SS[i][j]=1\n",
        "\n",
        "\n",
        "class Graph:\n",
        "\tdef __init__(self,graph):\n",
        "\n",
        "\t\tself.graph = graph\n",
        "\t\tself.nmsk = len(graph)\n",
        "\t\tself.stofur = len(graph[0])\n",
        "\n",
        "\tdef bpm(self, u, matchR, seen):\n",
        "\n",
        "\t\tfor v in range(self.stofur):\n",
        "\n",
        "\t\t\tif self.graph[u][v] and seen[v] == False:\n",
        "\n",
        "\t\t\t\tseen[v] = True\n",
        "\t\t\t\tif matchR[v] == -1 or self.bpm(matchR[v],\n",
        "\t\t\t\t\t\t\t\t\t\t\tmatchR, seen):\n",
        "\t\t\t\t\tmatchR[v] = u\n",
        "\t\t\t\t\treturn True\n",
        "\t\treturn False\n",
        "\n",
        "\t# Finnur stærstu spyrðingu\n",
        "\tdef maxBPM(self):\n",
        "\t\tmatchR = [-1] * self.stofur\n",
        "\n",
        "\t\tresult = 0\n",
        "\t\tfor i in range(self.nmsk):\n",
        "\n",
        "\t\t\tseen = [False] * self.stofur\n",
        "\n",
        "\t\t\tif self.bpm(i, matchR, seen):\n",
        "\t\t\t\tresult += 1\n",
        "\t\treturn result, matchR\n",
        "\n",
        "\n",
        "g = Graph(SS)\n",
        "print(\"Stærsta spyrðing er: \", g.maxBPM()[0])\n"
      ],
      "metadata": {
        "id": "hboIqqmOPQGV",
        "colab": {
          "base_uri": "https://localhost:8080/"
        },
        "outputId": "2e745421-ae6d-4724-f887-6c7650cf01f4"
      },
      "execution_count": null,
      "outputs": [
        {
          "output_type": "stream",
          "name": "stdout",
          "text": [
            "Stærsta spyrðing er:  32\n"
          ]
        }
      ]
    },
    {
      "cell_type": "markdown",
      "source": [
        "(d) Setjið fram stundatöflur fyrir valdar námsbrautir eins og þið gerðuð í 3.3.1."
      ],
      "metadata": {
        "id": "tF2vT00WZgpr"
      }
    },
    {
      "cell_type": "markdown",
      "source": [
        "Byrjum á því að velja kennslustofur fyrir námskeiðin. Fyrir sérhvern lit í netinu búum við til tvíhlutanet eins og að framan þar sem að námskeiðin eru þau með þann ákveðna lit. Við finnum svo stærstu spyrðingu í tvíhlutanetinu en hún útlhlutar sérhverju námskeiði kennslustofu."
      ],
      "metadata": {
        "id": "v1z0rXWyqbCV"
      }
    },
    {
      "cell_type": "code",
      "source": [
        "# Skilar fylki sem segir til um fjölda hnúta af hverjum lit\n",
        "\n",
        "def num_of_color(coloring):\n",
        "  num=[0]*coloring_number(coloring)\n",
        "  for x in coloring:\n",
        "    num[coloring[x]] = num[coloring[x]] + 1\n",
        "  return num\n",
        "\n",
        "# Við höfum úr 3.3.1. d) að skylduáfangar á fyrstu haustönn eru 8 talsins. Við höfum þá\n",
        "\n",
        "for i in range(coloring_number(litun)):\n",
        "  number_of_nodes = (num_of_color(litun))[i]\n",
        "  H=[[0 for _ in range(32+number_of_nodes)] for _ in range(32+number_of_nodes)]\n",
        "\n",
        "  # GGG er net með öllum námskeiðum úr völdum námsbrautum\n",
        "  counter = 0\n",
        "  courses_in_H = [\"\"]*number_of_nodes\n",
        "  for node in GGG:\n",
        "    if litun[node]==i:\n",
        "      courses_in_H[counter]=node\n",
        "      for j in range (number_of_nodes,32+number_of_nodes):\n",
        "        size_classroom = int(str(ds.iloc[j-number_of_nodes,0]).split(\"\\t\")[1])\n",
        "        x = numlist[node]\n",
        "        if df.iloc[x,6]*1.5<=size_classroom:\n",
        "          H[counter][j]=1\n",
        "      counter = counter + 1\n",
        "\n",
        "  h = Graph(H)\n",
        "\n",
        "  for i in range(0,32+number_of_nodes):\n",
        "    if (h.maxBPM()[1])[i]!=-1:\n",
        "      print(\"Námskeið \", courses_in_H[(h.maxBPM()[1])[i]],\" er kennt í kennslustofu \", ds.iloc[i-number_of_nodes,0]  )\n"
      ],
      "metadata": {
        "id": "D-OOar2lZkWP",
        "colab": {
          "base_uri": "https://localhost:8080/"
        },
        "outputId": "d9cefe20-632d-4c53-b07f-06996a859e8a"
      },
      "execution_count": null,
      "outputs": [
        {
          "output_type": "stream",
          "name": "stdout",
          "text": [
            "Námskeið  STÆ105G  er kennt í kennslustofu  HB-1\t296\n",
            "Námskeið  HBV101G  er kennt í kennslustofu  HB-2\t203\n",
            "Námskeið  STÆ104G  er kennt í kennslustofu  HB-1\t296\n",
            "Námskeið  TÖL107G  er kennt í kennslustofu  HB-2\t203\n",
            "Námskeið  STÆ107G  er kennt í kennslustofu  HB-1\t296\n",
            "Námskeið  TÖL101G  er kennt í kennslustofu  HB-1\t296\n",
            "Námskeið  TÖL104G  er kennt í kennslustofu  HB-1\t296\n",
            "Námskeið  TÖL108G  er kennt í kennslustofu  HB-1\t296\n"
          ]
        }
      ]
    },
    {
      "cell_type": "markdown",
      "source": [
        "## **3.3.3 Lágmörkun á fjölda tímahólfa**"
      ],
      "metadata": {
        "id": "3_fbTdyWa4wt"
      }
    },
    {
      "cell_type": "markdown",
      "source": [
        "SAT (satisfiability) verkefnið er NP-fullkomið fyrir klausur með 3 eða fleiri breytum og því\n",
        "er ekkert SAT reiknirit þekkt sem keyrir í margliðutíma. Það kann því að koma á óvart að\n",
        "oft er hægt að leysa gríðarstór SAT verkefni, verkefni með tugþúsundir breyta og milljónir\n",
        "klausa, á skömmum tíma. Ástæðan er sú að mörg þeirra SAT verkefna sem koma upp í\n",
        "praxís eru tiltölulega auðleyst, þ.e. ”slæm” tilfelli koma sjaldan upp. Á undanförnum árum\n",
        "hefur verið hröð framþróun í reikniritum fyrir SAT verkefni og þess vegna verður sífellt\n",
        "algengara að tækla torleyst verkefni með því að yfirfæra þau á SAT frekar en að útbúa\n",
        "sérhæft reiknirit fyrir verkefnið.\n",
        "\n",
        "Hér notum við SAT pakka sem kallast Glucose3 til að raða námskeiðum í stundatöflu.\n",
        "Það gerir okkur jafnframt kleift að ákvarða lágmarksfjölda tímahólfa sem þarf (ef Glucose3\n",
        "skilar að SAT verkefnið sé fullnægjanlegt fyrir k liti en ófullnægjanlegt fyrir k − 1 liti þá er\n",
        "það sönnun á að k sé litunartala netsins)."
      ],
      "metadata": {
        "id": "S8KKXkq4a98t"
      }
    },
    {
      "cell_type": "markdown",
      "source": [
        "**(a)** Sýnið hvernig hægt er að yfirfæra k-litun á neti G yfir á SAT verkefni með því að lýsa\n",
        "hvernig neti G = (V, E) er varpað í Boolformúlu φ þannig að G sé k-litanlegt þá og því\n",
        "aðeins að φ sé fullnægjanleg. Ábending: Hverjar eru breytur og skorður litunarverkefn-\n",
        "isins? Hvernig má kóða þær í Boolformúlu? Skoðið t.d. 3 liti til að byrja með."
      ],
      "metadata": {
        "id": "59_q7djtbE71"
      }
    },
    {
      "cell_type": "markdown",
      "source": [
        "Við getum yfirfært k-litunarverkefnið yfir á SAT verkefni með eftirfarandi hætti:\n",
        "\n",
        "Við byrjum á því að skilgreina breytu $x_{v,j}$ fyrir hvern hnút $v\\in V$ og fyrir hvern lit frá 1 upp í k. $x_{v,j}$ tekur gildið satt ef og aðeins ef hnútur $v$ er litaður með lit i.\n",
        "\n",
        "Eftirfarandi eru skorður fyrir litun:\n",
        "\n",
        "\n",
        "\n",
        "*   **Hver hnútur verður a.m.k. að hafa einn lit**: Við verðum að tryggja að fyrir hvern hnút $v$ fái hann einhvern af $k$ litunum. Við gerum þetta með því að búa til klausa sem inniheldur allar litabreytur fyrir hnútinn, þ.e. $y_v=(x_{v,1}\\vee x_{v,2} \\vee \\cdots \\vee x_{v,k})$\n",
        "*   **Hver hnútur má í mesta lagi hafa einn lit** Til þess að tryggja að enginn hnútur sé með meira en einn lit bætum við klausa við hvert mögulegt litapar $(i,j)$ fyrir hvern hnút, þar sem $i \\neq j$: $y_{v_{ij}}=(\\neg x_{v,i} \\vee \\neg x_{v,j})$\n",
        "*   **Engir tengdir hnútar mega hafa sama litinn** Fyrir hvern legg $(v,w) \\in E$ og hvern lit $i$, þá búum við til klausa sem tryggir að hnútarnir sem leggurinn tengir deili ekki lit: $y_{(v,w)_i}=(\\neg x_{v,i} \\vee \\neg x_{w,i})$.  \n",
        "\n",
        "Af þessu skilgreinum við boolformúlu\n",
        "\n",
        "$$\\varphi = \\left(\\bigwedge_{v\\in V}y_v\\right)\\land \\left(\\bigwedge_{v\\in V}\\bigwedge_{i\\neq j}y_{v_{ij}}\\right)\\land \\left(\\bigwedge_{(v,w)\\in E}\\bigwedge_{i=0}^{k-1}y_{(v,w)_i}\\right)$$\n",
        "\n",
        "sem er fullnægjanleg þ.þ.a.a. netið er k-litanlegt.\n",
        "\n",
        "Við tökum sem dæmi $K_3$ netið. Það er augljóslega 3-litanlegt og ef við köllum hnútana $a$, $b$ og $c$ og litina 0, 1 og 2 og g.r.f. að $x_{a,0}=1$, $x_{b,1}=1$ og $x_{c,2}=1$ og $x_{v,i}=0$ fyrir öll önnur gildi þá er $\\varphi$ sönn.\n"
      ],
      "metadata": {
        "id": "A7i5nEEFbQzz"
      }
    },
    {
      "cell_type": "code",
      "source": [
        "pip install python-sat[aiger,approxmc,cryptosat,pblib]"
      ],
      "metadata": {
        "id": "uVu9sUr1ZNiW",
        "colab": {
          "base_uri": "https://localhost:8080/"
        },
        "outputId": "9303e94a-751f-4c7b-c8e3-cc83ee9661b5"
      },
      "execution_count": null,
      "outputs": [
        {
          "output_type": "stream",
          "name": "stdout",
          "text": [
            "Collecting python-sat[aiger,approxmc,cryptosat,pblib]\n",
            "  Downloading python_sat-1.8.dev12-cp310-cp310-manylinux_2_12_x86_64.manylinux2010_x86_64.manylinux_2_28_x86_64.whl (2.7 MB)\n",
            "\u001b[?25l     \u001b[90m━━━━━━━━━━━━━━━━━━━━━━━━━━━━━━━━━━━━━━━━\u001b[0m \u001b[32m0.0/2.7 MB\u001b[0m \u001b[31m?\u001b[0m eta \u001b[36m-:--:--\u001b[0m\r\u001b[2K     \u001b[91m━━━━━\u001b[0m\u001b[91m╸\u001b[0m\u001b[90m━━━━━━━━━━━━━━━━━━━━━━━━━━━━━━━━━━\u001b[0m \u001b[32m0.4/2.7 MB\u001b[0m \u001b[31m11.8 MB/s\u001b[0m eta \u001b[36m0:00:01\u001b[0m\r\u001b[2K     \u001b[91m━━━━━━━━━━━━━━━━━━━━━━━━━━━━━━━━━━━━━━━\u001b[0m\u001b[91m╸\u001b[0m \u001b[32m2.7/2.7 MB\u001b[0m \u001b[31m54.1 MB/s\u001b[0m eta \u001b[36m0:00:01\u001b[0m\r\u001b[2K     \u001b[90m━━━━━━━━━━━━━━━━━━━━━━━━━━━━━━━━━━━━━━━━\u001b[0m \u001b[32m2.7/2.7 MB\u001b[0m \u001b[31m34.4 MB/s\u001b[0m eta \u001b[36m0:00:00\u001b[0m\n",
            "\u001b[?25hRequirement already satisfied: six in /usr/local/lib/python3.10/dist-packages (from python-sat[aiger,approxmc,cryptosat,pblib]) (1.16.0)\n",
            "Collecting pypblib>=0.0.3 (from python-sat[aiger,approxmc,cryptosat,pblib])\n",
            "  Downloading pypblib-0.0.4.tar.gz (74 kB)\n",
            "\u001b[2K     \u001b[90m━━━━━━━━━━━━━━━━━━━━━━━━━━━━━━━━━━━━━━━━\u001b[0m \u001b[32m74.0/74.0 kB\u001b[0m \u001b[31m9.0 MB/s\u001b[0m eta \u001b[36m0:00:00\u001b[0m\n",
            "\u001b[?25h  Preparing metadata (setup.py) ... \u001b[?25l\u001b[?25hdone\n",
            "Collecting pyapproxmc>=4.1.8 (from python-sat[aiger,approxmc,cryptosat,pblib])\n",
            "  Downloading pyapproxmc-4.1.24-cp310-cp310-manylinux_2_17_x86_64.manylinux2014_x86_64.whl (10.7 MB)\n",
            "\u001b[2K     \u001b[90m━━━━━━━━━━━━━━━━━━━━━━━━━━━━━━━━━━━━━━━━\u001b[0m \u001b[32m10.7/10.7 MB\u001b[0m \u001b[31m55.4 MB/s\u001b[0m eta \u001b[36m0:00:00\u001b[0m\n",
            "\u001b[?25hCollecting pycryptosat>=5.11.18 (from python-sat[aiger,approxmc,cryptosat,pblib])\n",
            "  Downloading pycryptosat-5.11.21-cp310-cp310-manylinux_2_17_x86_64.manylinux2014_x86_64.whl (9.5 MB)\n",
            "\u001b[2K     \u001b[90m━━━━━━━━━━━━━━━━━━━━━━━━━━━━━━━━━━━━━━━━\u001b[0m \u001b[32m9.5/9.5 MB\u001b[0m \u001b[31m9.9 MB/s\u001b[0m eta \u001b[36m0:00:00\u001b[0m\n",
            "\u001b[?25hCollecting py-aiger-cnf>=2.0.0 (from python-sat[aiger,approxmc,cryptosat,pblib])\n",
            "  Downloading py_aiger_cnf-5.0.8-py3-none-any.whl (5.1 kB)\n",
            "Collecting bidict<0.23.0,>=0.22.0 (from py-aiger-cnf>=2.0.0->python-sat[aiger,approxmc,cryptosat,pblib])\n",
            "  Downloading bidict-0.22.1-py3-none-any.whl (35 kB)\n",
            "Collecting funcy<2.0,>=1.12 (from py-aiger-cnf>=2.0.0->python-sat[aiger,approxmc,cryptosat,pblib])\n",
            "  Downloading funcy-1.18-py2.py3-none-any.whl (33 kB)\n",
            "Collecting py-aiger<7.0.0,>=6.0.0 (from py-aiger-cnf>=2.0.0->python-sat[aiger,approxmc,cryptosat,pblib])\n",
            "  Downloading py_aiger-6.2.3-py3-none-any.whl (19 kB)\n",
            "Requirement already satisfied: attrs>=23 in /usr/local/lib/python3.10/dist-packages (from py-aiger<7.0.0,>=6.0.0->py-aiger-cnf>=2.0.0->python-sat[aiger,approxmc,cryptosat,pblib]) (23.2.0)\n",
            "Collecting pyrsistent<0.20.0,>=0.19.0 (from py-aiger<7.0.0,>=6.0.0->py-aiger-cnf>=2.0.0->python-sat[aiger,approxmc,cryptosat,pblib])\n",
            "  Downloading pyrsistent-0.19.3-py3-none-any.whl (57 kB)\n",
            "\u001b[2K     \u001b[90m━━━━━━━━━━━━━━━━━━━━━━━━━━━━━━━━━━━━━━━━\u001b[0m \u001b[32m57.5/57.5 kB\u001b[0m \u001b[31m6.1 MB/s\u001b[0m eta \u001b[36m0:00:00\u001b[0m\n",
            "\u001b[?25hRequirement already satisfied: sortedcontainers<3.0.0,>=2.3.0 in /usr/local/lib/python3.10/dist-packages (from py-aiger<7.0.0,>=6.0.0->py-aiger-cnf>=2.0.0->python-sat[aiger,approxmc,cryptosat,pblib]) (2.4.0)\n",
            "Building wheels for collected packages: pypblib\n",
            "  Building wheel for pypblib (setup.py) ... \u001b[?25l\u001b[?25hdone\n",
            "  Created wheel for pypblib: filename=pypblib-0.0.4-cp310-cp310-linux_x86_64.whl size=2973395 sha256=a56cd960817e7f3468fd7f4198abeac512dc0f0439318a4b6dcdf9cdfe139108\n",
            "  Stored in directory: /root/.cache/pip/wheels/a8/3d/9c/b980a09d6084eaeb9b336edbe20371c53c2550226daeee2025\n",
            "Successfully built pypblib\n",
            "Installing collected packages: pypblib, funcy, python-sat, pyrsistent, pycryptosat, pyapproxmc, bidict, py-aiger, py-aiger-cnf\n",
            "  Attempting uninstall: bidict\n",
            "    Found existing installation: bidict 0.23.1\n",
            "    Uninstalling bidict-0.23.1:\n",
            "      Successfully uninstalled bidict-0.23.1\n",
            "Successfully installed bidict-0.22.1 funcy-1.18 py-aiger-6.2.3 py-aiger-cnf-5.0.8 pyapproxmc-4.1.24 pycryptosat-5.11.21 pypblib-0.0.4 pyrsistent-0.19.3 python-sat-1.8.dev12\n"
          ]
        }
      ]
    },
    {
      "cell_type": "markdown",
      "source": [
        "(b) Sýnið hvernig hægt er með einföldum hætti að taka tillit til hámarksfjölda kennslustofa\n",
        "sem eru í boði með því að bæta klausum (og e.t.v. breytum) við φ þannig að mest\n",
        "séu $s_\\max$ hnútar séu litaðir sama lit. Hversu margar breytur og skorður bætast við φ?\n",
        "Ábending: Þið þurfið ekki að hafa áhyggjur af því hvort aðferðin ykkar sé nothæf fyrir\n",
        "stór tilvik af stundatöfluverkefninu sbr. athugasemd hér að neðan."
      ],
      "metadata": {
        "id": "jG--4IfArA4C"
      }
    },
    {
      "cell_type": "markdown",
      "source": [
        "Við viljum að fyrir fyrir sérhvern lit $i$ gildi að $$\\sum_{v\\in V}x_{v,i}\\leq s_{\\max} $$\n",
        "Við tökum þá samantekt úr $W \\subset V$ með $s_\\max+1$ staki. Ef klausan\n",
        "$$\n",
        "\\eta(W,i) = \\bigwedge_{w\\in W}x_{w,i}\n",
        "$$\n",
        "er sönn fyrir einhvern lit $i$ og einhverja samantekt W þá vitum við að það eru fleiri en $s_\\max$ hnútar af lit $i$. Ef við látum $X$ vera mengi allra samantekta, sem eru $\\binom{|V|}{s_\\max+1}$ talsins, þá fæst að það eru fleiri en $s_\\max$ hnútar af einhverjum lit ef\n",
        "$$\n",
        "\\xi = \\bigvee_{W\\in X}\\bigvee_{i=0}^{k-1}\\eta(W,i)\n",
        "$$\n",
        "er sönn. Þá bætum við\n",
        "$$\n",
        "\\neg \\xi = \\bigwedge_{W\\in X}\\bigwedge_{i=0}^{k-1}\\neg\\eta(W,i)\n",
        "$$\n",
        "við klausuna til þess að tryggja hámarksfjölda hnúta af hverjum lit.\n",
        "\n"
      ],
      "metadata": {
        "id": "35HTGpl4rGs-"
      }
    },
    {
      "cell_type": "markdown",
      "source": [
        "(c) Setjið SAT verkefnið sem svarar til niðurröðunar á námskeiðum á haustmisseri upp í PySAT og leysið með Glucose3 pakkanum (sjá athugasemdir hér að neðan). Ákvarðið minnsta fjölda lita sem þarf til að lita netið og leysið svo tilsvarandi spyrðingarverkefni til að úthluta námskeiðum kennslustofum."
      ],
      "metadata": {
        "id": "iccRzq7qrMjq"
      }
    },
    {
      "cell_type": "markdown",
      "source": [
        "PySAT skilar hvort það sé fullnægjanlegt fyrir k svo við íitrum yfir k þangað til k>13 því þá vitum við að keyrsla hefur mistekist þar sem við höfðum sýnt með gráðugu reikniriti að hægt væri að lita netið með 13 litum"
      ],
      "metadata": {
        "id": "wg_w6OF18M4X"
      }
    },
    {
      "cell_type": "code",
      "source": [
        "from pysat.solvers import Glucose3\n",
        "from pysat.formula import CNF\n",
        "from pysat.card import *\n",
        "\n",
        "def create_cnf(graph, k, max_color_vertices):\n",
        "    cnf = CNF()\n",
        "    var = {}\n",
        "    counter = 1\n",
        "\n",
        "    # Eintæk vörpun sem varpar (hnút,lit) í náttúrulega tölu\n",
        "    for node in graph:\n",
        "        var[node] = [counter + i for i in range(k)]\n",
        "        counter += k\n",
        "\n",
        "    # Aðeins einn litur á hnút\n",
        "    for node, vars in var.items():\n",
        "        cnf.append(vars)\n",
        "        for i in range(len(vars)):\n",
        "            for j in range(i + 1, len(vars)):\n",
        "                cnf.append([-vars[i], -vars[j]])\n",
        "\n",
        "    # Aðlægir hnútar ekki með sama lit\n",
        "    for node, neighbors in graph.items():\n",
        "        for neighbor in neighbors:\n",
        "            for i in range(k):\n",
        "                cnf.append([-var[node][i], -var[neighbor][i]])\n",
        "\n",
        "    top_id = max(var[node][-1] for node in var) + 1000\n",
        "\n",
        "    for color_index in range(k):\n",
        "        color_vars = [var[node][color_index] for node in graph]\n",
        "        cardinality_clause = CardEnc.atmost(lits=color_vars, bound=max_color_vertices, top_id=top_id)\n",
        "        cnf.extend(cardinality_clause.clauses)\n",
        "\n",
        "        top_id += len(color_vars) * 100\n",
        "\n",
        "    return cnf, var\n",
        "\n",
        "# Endurkvæmt reiknirit sem athugar hvort boolformúla sé uppfyllt fyrir gefið k\n",
        "def k_litun(graph, limit, k):\n",
        "        if k > 13:\n",
        "          print(\"Gekk ekki upp\")\n",
        "          return\n",
        "        solver = Glucose3()\n",
        "        cnf, var_mapping = create_cnf(graph, k, limit)\n",
        "        for clause in cnf:\n",
        "            solver.add_clause(clause)\n",
        "        if solver.solve():\n",
        "            model = solver.get_model()\n",
        "            solution = {node: None for node in graph}\n",
        "            for node, vars in var_mapping.items():\n",
        "                for i, var in enumerate(vars):\n",
        "                    if model[var - 1] > 0:\n",
        "                        solution[node] = i + 1\n",
        "                        break\n",
        "            if all(color is not None for color in solution.values()):\n",
        "                print(f\"Netið er {k}-litanlegt\")\n",
        "                return solution\n",
        "        else:\n",
        "            print(f\"Netið er ekki {k}-litanlegt\")\n",
        "            solver.delete()\n",
        "            return k_litun(graph, limit, k+1)\n",
        "\n",
        "\n",
        "litun_Haust = k_litun(GG_Haust, 32, 1)\n",
        "print(\"\\nNetið hefur litun\\n\")\n",
        "print(litun_Haust)"
      ],
      "metadata": {
        "id": "dDZ4B1JXrQvt",
        "colab": {
          "base_uri": "https://localhost:8080/"
        },
        "outputId": "f3d1ac3a-8114-4e72-89f1-3b3e6f86b6d8"
      },
      "execution_count": null,
      "outputs": [
        {
          "output_type": "stream",
          "name": "stdout",
          "text": [
            "Netið er ekki 1-litanlegt\n",
            "Netið er ekki 2-litanlegt\n",
            "Netið er ekki 3-litanlegt\n",
            "Netið er ekki 4-litanlegt\n",
            "Netið er ekki 5-litanlegt\n",
            "Netið er ekki 6-litanlegt\n",
            "Netið er ekki 7-litanlegt\n",
            "Netið er ekki 8-litanlegt\n",
            "Netið er ekki 9-litanlegt\n",
            "Netið er 10-litanlegt\n",
            "\n",
            "Netið hefur litun\n",
            "\n",
            "{'BYG101M': 4, 'BYG120F': 2, 'BYG301G': 4, 'BYG302G': 2, 'BYG501G': 4, 'BYG503G': 3, 'EÐL101G': 2, 'EÐL101M': 3, 'EÐL102G': 5, 'EÐL102M': 4, 'EÐL107G': 4, 'EÐL108G': 6, 'EÐL114F': 10, 'EÐL124F': 3, 'EÐL301G': 2, 'EÐL302G': 4, 'EÐL306G': 6, 'EÐL505F': 3, 'EÐL506G': 1, 'EÐL509M': 4, 'EÐL515M': 10, 'EÐL520M': 6, 'EÐL521G': 3, 'EÐL527M': 4, 'EÐL528M': 2, 'EÐL701M': 6, 'EFN103G': 6, 'EFN104G': 5, 'EFN106G': 6, 'EFN108G': 6, 'EFN109G': 4, 'EFN110G': 1, 'EFN112G': 4, 'EFN113G': 3, 'EFN114G': 8, 'EFN115F': 6, 'EFN301G': 5, 'EFN304G': 2, 'EFN307G': 2, 'EFN309G': 3, 'EFN310G': 4, 'EFN311G': 1, 'EFN313G': 1, 'EFN315G': 5, 'EFN509G': 6, 'EFN513M': 3, 'EFN514M': 1, 'EFN515M': 4, 'EFN516M': 8, 'EVF301G': 4, 'EVF302G': 3, 'EVF502G': 2, 'FER101G': 2, 'FER110F': 2, 'FER111F': 6, 'FER112F': 4, 'FER113F': 3, 'FER306G': 4, 'FER307G': 3, 'FER507G': 5, 'FER510G': 2, 'HBV101G': 6, 'HBV301G': 5, 'HBV501G': 1, 'HBV505M': 5, 'HBV506M': 1, 'IÐN101M': 3, 'IÐN103G': 3, 'IÐN122F': 6, 'IÐN128F': 6, 'IÐN131F': 3, 'IÐN301G': 8, 'IÐN302G': 3, 'IÐN303G': 5, 'IÐN502G': 2, 'IÐN503G': 4, 'IÐN508M': 1, 'IÐN509M': 4, 'IÐN510M': 5, 'ILT001F': 6, 'ILT002F': 3, 'ILT003F': 2, 'ILT102F': 2, 'JAR101G': 3, 'JAR107M': 1, 'JAR129F': 2, 'JAR134F': 4, 'JAR308G': 5, 'JAR312G': 2, 'JAR314G': 4, 'JAR508M': 6, 'JAR513G': 2, 'JAR513M': 6, 'JAR514M': 6, 'JAR516M': 10, 'JEÐ116F': 5, 'JEÐ301G': 6, 'JEÐ502M': 4, 'JEÐ503M': 5, 'JEÐ504M': 8, 'JEÐ505G': 5, 'LAN019F': 3, 'LAN020F': 6, 'LAN101G': 4, 'LAN102G': 2, 'LAN104G': 5, 'LAN105G': 3, 'LAN107G': 4, 'LAN116F': 6, 'LAN117F': 3, 'LAN118F': 2, 'LAN301F': 5, 'LAN305G': 2, 'LAN307G': 5, 'LAN308G': 5, 'LAN513M': 5, 'LAN514G': 4, 'LAN517G': 3, 'LEF103F': 2, 'LEF302G': 7, 'LEF501M': 5, 'LEF509M': 9, 'LÍF102G': 6, 'LÍF108G': 2, 'LÍF109G': 7, 'LÍF110G': 1, 'LÍF112F': 1, 'LÍF114F': 6, 'LÍF118F': 2, 'LÍF119F': 4, 'LÍF127F': 2, 'LÍF128F': 3, 'LÍF129F': 6, 'LÍF130F': 5, 'LÍF311G': 3, 'LÍF313G': 2, 'LÍF314G': 1, 'LÍF315G': 5, 'LÍF319G': 6, 'LÍF505M': 5, 'LÍF523G': 8, 'LÍF532M': 4, 'LÍF534M': 6, 'LÍF536G': 1, 'LÍF540G': 10, 'LÍF543G': 1, 'LÍF544G': 8, 'LVF101F': 4, 'MAS102M': 1, 'MAS103M': 3, 'RAF054F': 1, 'RAF101G': 4, 'RAF214F': 1, 'RAF301G': 5, 'RAF302G': 3, 'RAF501G': 2, 'RAF502G': 3, 'RAF503G': 5, 'RAF504G': 1, 'RAF506G': 1, 'RAF507M': 6, 'REI503M': 6, 'REI504M': 6, 'REI505M': 3, 'REI506M': 1, 'STÆ012F': 1, 'STÆ101G': 6, 'STÆ104G': 7, 'STÆ105G': 4, 'STÆ106G': 1, 'STÆ107G': 2, 'STÆ108G': 5, 'STÆ119F': 6, 'STÆ301G': 2, 'STÆ302G': 1, 'STÆ303G': 5, 'STÆ304G': 4, 'STÆ310M': 1, 'STÆ312M': 5, 'STÆ415M': 4, 'STÆ520M': 2, 'STÆ528M': 1, 'STÆ532M': 6, 'STÆ534M': 1, 'STÆ535M': 1, 'STÆ536M': 1, 'STÆ537M': 1, 'TÖL029M': 1, 'TÖL101G': 9, 'TÖL103M': 1, 'TÖL104G': 5, 'TÖL104M': 3, 'TÖL105G': 3, 'TÖL105M': 3, 'TÖL107G': 2, 'TÖL108G': 8, 'TÖL301G': 7, 'TÖL303G': 10, 'TÖL304G': 2, 'TÖL309G': 8, 'TÖL502M': 5, 'TÖL503M': 7, 'TÖL506M': 5, 'TÖV301G': 6, 'TÖV501M': 7, 'UAU018M': 4, 'UAU101F': 10, 'UAU102F': 7, 'UAU105F': 3, 'UAU107M': 10, 'UAU108F': 7, 'UAU109F': 7, 'UAU111F': 2, 'UAU112F': 5, 'UAU116F': 7, 'UAU122F': 7, 'UAU128F': 9, 'UAU129F': 7, 'UGR102G': 8, 'UGR103G': 9, 'UGR104G': 10, 'UGR105G': 7, 'UGR107G': 3, 'UMV036F': 9, 'UMV102G': 10, 'UMV121F': 4, 'UMV122F': 9, 'UMV123F': 7, 'UMV302G': 8, 'UMV501M': 8, 'UMV502G': 7, 'UMV502M': 9, 'UMV504G': 8, 'VÉL049F': 10, 'VÉL072M': 8, 'VÉL101G': 10, 'VÉL103M': 9, 'VÉL113F': 7, 'VÉL114F': 8, 'VÉL120F': 9, 'VÉL301G': 10, 'VÉL303G': 7, 'VÉL501M': 7, 'VÉL502G': 9, 'VÉL502M': 9, 'VÉL503M': 7, 'VÉL504G': 7, 'VÉL510G': 7, 'VON101F': 7}\n"
          ]
        }
      ]
    },
    {
      "cell_type": "markdown",
      "source": [
        "Ákvörðum nú stundatöflur fyrir námskeiðin"
      ],
      "metadata": {
        "id": "zFQn8kGlrZjY"
      }
    },
    {
      "cell_type": "code",
      "source": [
        "classroom_for_class = {}\n",
        "\n",
        "# Línunúmer námskeiðs í df\n",
        "node_number = {}\n",
        "for i in range(len(df)):\n",
        "  node_number[df.iloc[i,1]] = i\n",
        "\n",
        "for i in range(coloring_number(litun_Haust)):\n",
        "  number_of_nodes = (num_of_color(litun_Haust))[i]\n",
        "  #Búið til tvíhlutanet með öllum námskeiðum sem eru með lit i\n",
        "  H=[[0 for _ in range(32+number_of_nodes)] for _ in range(32+number_of_nodes)]\n",
        "\n",
        "\n",
        "  counter = 0\n",
        "  courses_in_H = [\"\"]*number_of_nodes\n",
        "  for node in GG_Haust:\n",
        "    if litun_Haust[node]==i:\n",
        "      courses_in_H[counter]=node\n",
        "      for j in range (number_of_nodes,32+number_of_nodes):\n",
        "        size_classroom = int(str(ds.iloc[j-number_of_nodes,0]).split(\"\\t\")[1])\n",
        "        x = node_number[node]\n",
        "        if df.iloc[x,6]*1.5<=size_classroom:\n",
        "          H[counter][j]=1\n",
        "      counter = counter + 1\n",
        "\n",
        "  # Fundin stærsta spyrðing\n",
        "  h = Graph(H)\n",
        "\n",
        "  # Skilað í hvaða kennslustofu námskeið er í\n",
        "  for i in range(0,32+number_of_nodes):\n",
        "    if (h.maxBPM()[1])[i]!=-1:\n",
        "      print(\"Námskeið \", courses_in_H[(h.maxBPM()[1])[i]],\" er kennt í kennslustofu \", ds.iloc[i-number_of_nodes,0]  )\n",
        "      classroom_for_class[courses_in_H[(h.maxBPM()[1])[i]]]=ds.iloc[i-number_of_nodes,0]"
      ],
      "metadata": {
        "id": "4J6_xzM8rb7E",
        "colab": {
          "base_uri": "https://localhost:8080/"
        },
        "outputId": "a2424a24-f96b-4536-f2ad-c37b45a2d533"
      },
      "execution_count": null,
      "outputs": [
        {
          "output_type": "stream",
          "name": "stdout",
          "text": [
            "Námskeið  STÆ535M  er kennt í kennslustofu  A-050\t30\n",
            "Námskeið  STÆ534M  er kennt í kennslustofu  A-051\t24\n",
            "Námskeið  STÆ537M  er kennt í kennslustofu  A-052\t36\n",
            "Námskeið  STÆ302G  er kennt í kennslustofu  HB-1\t296\n",
            "Námskeið  TÖL103M  er kennt í kennslustofu  HB-2\t203\n",
            "Námskeið  TÖL029M  er kennt í kennslustofu  HB-3\t142\n",
            "Námskeið  STÆ536M  er kennt í kennslustofu  HB-4\t90\n",
            "Námskeið  STÆ528M  er kennt í kennslustofu  HT-101\t60\n",
            "Námskeið  STÆ310M  er kennt í kennslustofu  HT-102\t180\n",
            "Námskeið  RAF506G  er kennt í kennslustofu  HT-103\t100\n",
            "Námskeið  RAF504G  er kennt í kennslustofu  HT-104\t100\n",
            "Námskeið  HBV501G  er kennt í kennslustofu  HT-105\t180\n",
            "Námskeið  STÆ012F  er kennt í kennslustofu  N-121\t22\n",
            "Námskeið  LÍF112F  er kennt í kennslustofu  N-128\t24\n",
            "Námskeið  REI506M  er kennt í kennslustofu  N-129\t24\n",
            "Námskeið  RAF214F  er kennt í kennslustofu  N-130\t35\n",
            "Námskeið  RAF054F  er kennt í kennslustofu  N-131\t55\n",
            "Námskeið  EFN110G  er kennt í kennslustofu  N-132\t150\n",
            "Námskeið  HBV506M  er kennt í kennslustofu  V02-138\t18\n",
            "Námskeið  EFN313G  er kennt í kennslustofu  V02-147\t30\n",
            "Námskeið  EFN514M  er kennt í kennslustofu  V02-148\t20\n",
            "Námskeið  EFN311G  er kennt í kennslustofu  V02-152\t54\n",
            "Námskeið  LÍF543G  er kennt í kennslustofu  V02-155\t32\n",
            "Námskeið  MAS102M  er kennt í kennslustofu  V02-156\t42\n",
            "Námskeið  STÆ106G  er kennt í kennslustofu  V02-157\t75\n",
            "Námskeið  JAR107M  er kennt í kennslustofu  V02-158\t75\n",
            "Námskeið  LÍF536G  er kennt í kennslustofu  V02-258\t32\n",
            "Námskeið  LÍF314G  er kennt í kennslustofu  V02-261\t32\n",
            "Námskeið  IÐN508M  er kennt í kennslustofu  V02-262\t60\n",
            "Námskeið  EÐL506G  er kennt í kennslustofu  Tg-214\t20\n",
            "Námskeið  LÍF110G  er kennt í kennslustofu  Gr-F01\t210\n",
            "Námskeið  UAU111F  er kennt í kennslustofu  A-050\t30\n",
            "Námskeið  STÆ301G  er kennt í kennslustofu  A-051\t24\n",
            "Námskeið  RAF501G  er kennt í kennslustofu  A-052\t36\n",
            "Námskeið  STÆ107G  er kennt í kennslustofu  HB-1\t296\n",
            "Námskeið  LÍF118F  er kennt í kennslustofu  HB-2\t203\n",
            "Námskeið  JAR312G  er kennt í kennslustofu  HB-3\t142\n",
            "Námskeið  LÍF313G  er kennt í kennslustofu  HB-4\t90\n",
            "Námskeið  STÆ520M  er kennt í kennslustofu  HT-101\t60\n",
            "Námskeið  TÖL304G  er kennt í kennslustofu  HT-102\t180\n",
            "Námskeið  LEF103F  er kennt í kennslustofu  HT-103\t100\n",
            "Námskeið  LÍF127F  er kennt í kennslustofu  HT-104\t100\n",
            "Námskeið  TÖL107G  er kennt í kennslustofu  HT-105\t180\n",
            "Námskeið  LAN118F  er kennt í kennslustofu  N-121\t22\n",
            "Námskeið  ILT102F  er kennt í kennslustofu  N-128\t24\n",
            "Námskeið  JAR129F  er kennt í kennslustofu  N-129\t24\n",
            "Námskeið  EVF502G  er kennt í kennslustofu  N-130\t35\n",
            "Námskeið  JAR513G  er kennt í kennslustofu  N-131\t55\n",
            "Námskeið  LÍF108G  er kennt í kennslustofu  N-132\t150\n",
            "Námskeið  FER110F  er kennt í kennslustofu  V02-138\t18\n",
            "Námskeið  EFN304G  er kennt í kennslustofu  V02-147\t30\n",
            "Námskeið  FER510G  er kennt í kennslustofu  V02-148\t20\n",
            "Námskeið  ILT003F  er kennt í kennslustofu  V02-152\t54\n",
            "Námskeið  BYG120F  er kennt í kennslustofu  V02-155\t32\n",
            "Námskeið  LAN305G  er kennt í kennslustofu  V02-156\t42\n",
            "Námskeið  LAN102G  er kennt í kennslustofu  V02-157\t75\n",
            "Námskeið  EÐL301G  er kennt í kennslustofu  V02-158\t75\n",
            "Námskeið  FER101G  er kennt í kennslustofu  V02-258\t32\n",
            "Námskeið  EFN307G  er kennt í kennslustofu  V02-261\t32\n",
            "Námskeið  BYG302G  er kennt í kennslustofu  V02-262\t60\n",
            "Námskeið  EÐL528M  er kennt í kennslustofu  Tg-214\t20\n",
            "Námskeið  IÐN502G  er kennt í kennslustofu  Gr-F01\t210\n",
            "Námskeið  EÐL101G  er kennt í kennslustofu  Gr-Ada\t25\n",
            "Námskeið  UGR107G  er kennt í kennslustofu  A-050\t30\n",
            "Námskeið  LAN019F  er kennt í kennslustofu  A-051\t24\n",
            "Námskeið  LAN517G  er kennt í kennslustofu  A-052\t36\n",
            "Námskeið  FER307G  er kennt í kennslustofu  HB-1\t296\n",
            "Námskeið  UAU105F  er kennt í kennslustofu  HB-2\t203\n",
            "Námskeið  TÖL105M  er kennt í kennslustofu  HB-3\t142\n",
            "Námskeið  TÖL104M  er kennt í kennslustofu  HB-4\t90\n",
            "Námskeið  RAF302G  er kennt í kennslustofu  HT-101\t60\n",
            "Námskeið  REI505M  er kennt í kennslustofu  HT-102\t180\n",
            "Námskeið  LAN105G  er kennt í kennslustofu  HT-103\t100\n",
            "Námskeið  RAF502G  er kennt í kennslustofu  HT-104\t100\n",
            "Námskeið  TÖL105G  er kennt í kennslustofu  HT-105\t180\n",
            "Námskeið  IÐN131F  er kennt í kennslustofu  N-121\t22\n",
            "Námskeið  LÍF311G  er kennt í kennslustofu  N-128\t24\n",
            "Námskeið  LAN117F  er kennt í kennslustofu  N-129\t24\n",
            "Námskeið  BYG503G  er kennt í kennslustofu  N-130\t35\n",
            "Námskeið  MAS103M  er kennt í kennslustofu  N-131\t55\n",
            "Námskeið  EFN309G  er kennt í kennslustofu  N-132\t150\n",
            "Námskeið  ILT002F  er kennt í kennslustofu  V02-138\t18\n",
            "Námskeið  EÐL101M  er kennt í kennslustofu  V02-147\t30\n",
            "Námskeið  EFN513M  er kennt í kennslustofu  V02-148\t20\n",
            "Námskeið  FER113F  er kennt í kennslustofu  V02-152\t54\n",
            "Námskeið  JAR101G  er kennt í kennslustofu  V02-155\t32\n",
            "Námskeið  IÐN302G  er kennt í kennslustofu  V02-156\t42\n",
            "Námskeið  LÍF128F  er kennt í kennslustofu  V02-157\t75\n",
            "Námskeið  IÐN103G  er kennt í kennslustofu  V02-158\t75\n",
            "Námskeið  EVF302G  er kennt í kennslustofu  V02-258\t32\n",
            "Námskeið  EÐL505F  er kennt í kennslustofu  V02-261\t32\n",
            "Námskeið  IÐN101M  er kennt í kennslustofu  V02-262\t60\n",
            "Námskeið  EÐL124F  er kennt í kennslustofu  Tg-214\t20\n",
            "Námskeið  EFN113G  er kennt í kennslustofu  Gr-F01\t210\n",
            "Námskeið  EÐL521G  er kennt í kennslustofu  Gr-Ada\t25\n",
            "Námskeið  UMV121F  er kennt í kennslustofu  A-050\t30\n",
            "Námskeið  LÍF119F  er kennt í kennslustofu  A-051\t24\n",
            "Námskeið  LVF101F  er kennt í kennslustofu  A-052\t36\n",
            "Námskeið  STÆ304G  er kennt í kennslustofu  HB-1\t296\n",
            "Námskeið  UAU018M  er kennt í kennslustofu  HB-2\t203\n",
            "Námskeið  STÆ415M  er kennt í kennslustofu  HB-3\t142\n",
            "Námskeið  LAN107G  er kennt í kennslustofu  HB-4\t90\n",
            "Námskeið  LAN514G  er kennt í kennslustofu  HT-101\t60\n",
            "Námskeið  RAF101G  er kennt í kennslustofu  HT-102\t180\n",
            "Námskeið  STÆ105G  er kennt í kennslustofu  HT-103\t100\n",
            "Námskeið  LÍF532M  er kennt í kennslustofu  HT-104\t100\n",
            "Námskeið  LAN101G  er kennt í kennslustofu  HT-105\t180\n",
            "Námskeið  JEÐ502M  er kennt í kennslustofu  N-121\t22\n",
            "Námskeið  JAR314G  er kennt í kennslustofu  N-128\t24\n",
            "Námskeið  JAR134F  er kennt í kennslustofu  N-129\t24\n",
            "Námskeið  EVF301G  er kennt í kennslustofu  N-130\t35\n",
            "Námskeið  EFN515M  er kennt í kennslustofu  N-131\t55\n",
            "Námskeið  IÐN503G  er kennt í kennslustofu  N-132\t150\n",
            "Námskeið  EÐL527M  er kennt í kennslustofu  V02-138\t18\n",
            "Námskeið  FER306G  er kennt í kennslustofu  V02-147\t30\n",
            "Námskeið  EÐL102M  er kennt í kennslustofu  V02-148\t20\n",
            "Námskeið  IÐN509M  er kennt í kennslustofu  V02-152\t54\n",
            "Námskeið  EÐL509M  er kennt í kennslustofu  V02-155\t32\n",
            "Námskeið  BYG301G  er kennt í kennslustofu  V02-156\t42\n",
            "Námskeið  EFN310G  er kennt í kennslustofu  V02-157\t75\n",
            "Námskeið  EFN109G  er kennt í kennslustofu  V02-158\t75\n",
            "Námskeið  EÐL302G  er kennt í kennslustofu  V02-258\t32\n",
            "Námskeið  BYG501G  er kennt í kennslustofu  V02-261\t32\n",
            "Námskeið  EÐL107G  er kennt í kennslustofu  V02-262\t60\n",
            "Námskeið  FER112F  er kennt í kennslustofu  Tg-214\t20\n",
            "Námskeið  EFN112G  er kennt í kennslustofu  Gr-F01\t210\n",
            "Námskeið  BYG101M  er kennt í kennslustofu  Gr-Ada\t25\n",
            "Námskeið  UAU112F  er kennt í kennslustofu  A-050\t30\n",
            "Námskeið  TÖL506M  er kennt í kennslustofu  A-051\t24\n",
            "Námskeið  TÖL502M  er kennt í kennslustofu  A-052\t36\n",
            "Námskeið  LÍF130F  er kennt í kennslustofu  HB-1\t296\n",
            "Námskeið  TÖL104G  er kennt í kennslustofu  HB-2\t203\n",
            "Námskeið  STÆ303G  er kennt í kennslustofu  HB-3\t142\n",
            "Námskeið  RAF503G  er kennt í kennslustofu  HB-4\t90\n",
            "Námskeið  LAN308G  er kennt í kennslustofu  HT-101\t60\n",
            "Námskeið  STÆ312M  er kennt í kennslustofu  HT-102\t180\n",
            "Námskeið  LÍF505M  er kennt í kennslustofu  HT-103\t100\n",
            "Námskeið  IÐN303G  er kennt í kennslustofu  HT-104\t100\n",
            "Námskeið  STÆ108G  er kennt í kennslustofu  HT-105\t180\n",
            "Námskeið  LAN307G  er kennt í kennslustofu  N-121\t22\n",
            "Námskeið  JEÐ503M  er kennt í kennslustofu  N-128\t24\n",
            "Námskeið  LAN301F  er kennt í kennslustofu  N-129\t24\n",
            "Námskeið  RAF301G  er kennt í kennslustofu  N-130\t35\n",
            "Námskeið  IÐN510M  er kennt í kennslustofu  N-131\t55\n",
            "Námskeið  EFN104G  er kennt í kennslustofu  N-132\t150\n",
            "Námskeið  EFN315G  er kennt í kennslustofu  V02-138\t18\n",
            "Námskeið  HBV505M  er kennt í kennslustofu  V02-147\t30\n",
            "Námskeið  JEÐ116F  er kennt í kennslustofu  V02-148\t20\n",
            "Námskeið  EFN301G  er kennt í kennslustofu  V02-152\t54\n",
            "Námskeið  JEÐ505G  er kennt í kennslustofu  V02-155\t32\n",
            "Námskeið  LEF501M  er kennt í kennslustofu  V02-156\t42\n",
            "Námskeið  LÍF315G  er kennt í kennslustofu  V02-157\t75\n",
            "Námskeið  LAN513M  er kennt í kennslustofu  V02-158\t75\n",
            "Námskeið  JAR308G  er kennt í kennslustofu  V02-258\t32\n",
            "Námskeið  LAN104G  er kennt í kennslustofu  V02-261\t32\n",
            "Námskeið  HBV301G  er kennt í kennslustofu  V02-262\t60\n",
            "Námskeið  EÐL102G  er kennt í kennslustofu  Gr-F01\t210\n",
            "Námskeið  FER507G  er kennt í kennslustofu  Gr-Ada\t25\n",
            "Námskeið  TÖV301G  er kennt í kennslustofu  A-050\t30\n",
            "Námskeið  REI503M  er kennt í kennslustofu  A-051\t24\n",
            "Námskeið  STÆ119F  er kennt í kennslustofu  A-052\t36\n",
            "Námskeið  STÆ101G  er kennt í kennslustofu  HB-1\t296\n",
            "Námskeið  STÆ532M  er kennt í kennslustofu  HB-2\t203\n",
            "Námskeið  LAN116F  er kennt í kennslustofu  HB-3\t142\n",
            "Námskeið  RAF507M  er kennt í kennslustofu  HB-4\t90\n",
            "Námskeið  REI504M  er kennt í kennslustofu  HT-101\t60\n",
            "Námskeið  LÍF534M  er kennt í kennslustofu  HT-102\t180\n",
            "Námskeið  LÍF319G  er kennt í kennslustofu  HT-103\t100\n",
            "Námskeið  JAR514M  er kennt í kennslustofu  HT-104\t100\n",
            "Námskeið  EFN106G  er kennt í kennslustofu  HT-105\t180\n",
            "Námskeið  LÍF129F  er kennt í kennslustofu  N-121\t22\n",
            "Námskeið  LÍF114F  er kennt í kennslustofu  N-128\t24\n",
            "Námskeið  LAN020F  er kennt í kennslustofu  N-129\t24\n",
            "Námskeið  IÐN128F  er kennt í kennslustofu  N-130\t35\n",
            "Námskeið  LÍF102G  er kennt í kennslustofu  N-131\t55\n",
            "Námskeið  EFN103G  er kennt í kennslustofu  N-132\t150\n",
            "Námskeið  ILT001F  er kennt í kennslustofu  V02-138\t18\n",
            "Námskeið  JEÐ301G  er kennt í kennslustofu  V02-147\t30\n",
            "Námskeið  IÐN122F  er kennt í kennslustofu  V02-148\t20\n",
            "Námskeið  JAR513M  er kennt í kennslustofu  V02-152\t54\n",
            "Námskeið  EÐL701M  er kennt í kennslustofu  V02-155\t32\n",
            "Námskeið  EÐL306G  er kennt í kennslustofu  V02-156\t42\n",
            "Námskeið  EÐL108G  er kennt í kennslustofu  V02-157\t75\n",
            "Námskeið  HBV101G  er kennt í kennslustofu  V02-158\t75\n",
            "Námskeið  EFN115F  er kennt í kennslustofu  V02-258\t32\n",
            "Námskeið  FER111F  er kennt í kennslustofu  V02-261\t32\n",
            "Námskeið  JAR508M  er kennt í kennslustofu  V02-262\t60\n",
            "Námskeið  EFN509G  er kennt í kennslustofu  Tg-214\t20\n",
            "Námskeið  EFN108G  er kennt í kennslustofu  Gr-F01\t210\n",
            "Námskeið  EÐL520M  er kennt í kennslustofu  Gr-Ada\t25\n",
            "Námskeið  VON101F  er kennt í kennslustofu  A-050\t30\n",
            "Námskeið  VÉL510G  er kennt í kennslustofu  A-051\t24\n",
            "Námskeið  UAU129F  er kennt í kennslustofu  A-052\t36\n",
            "Námskeið  STÆ104G  er kennt í kennslustofu  HB-1\t296\n",
            "Námskeið  UMV123F  er kennt í kennslustofu  HB-2\t203\n",
            "Námskeið  VÉL113F  er kennt í kennslustofu  HB-3\t142\n",
            "Námskeið  VÉL504G  er kennt í kennslustofu  HB-4\t90\n",
            "Námskeið  VÉL503M  er kennt í kennslustofu  HT-101\t60\n",
            "Námskeið  VÉL501M  er kennt í kennslustofu  HT-102\t180\n",
            "Námskeið  VÉL303G  er kennt í kennslustofu  HT-103\t100\n",
            "Námskeið  UMV502G  er kennt í kennslustofu  HT-104\t100\n",
            "Námskeið  UGR105G  er kennt í kennslustofu  HT-105\t180\n",
            "Námskeið  UAU122F  er kennt í kennslustofu  N-121\t22\n",
            "Námskeið  UAU116F  er kennt í kennslustofu  N-128\t24\n",
            "Námskeið  TÖL503M  er kennt í kennslustofu  N-129\t24\n",
            "Námskeið  TÖV501M  er kennt í kennslustofu  N-130\t35\n",
            "Námskeið  UAU109F  er kennt í kennslustofu  N-131\t55\n",
            "Námskeið  LÍF109G  er kennt í kennslustofu  N-132\t150\n",
            "Námskeið  UAU108F  er kennt í kennslustofu  V02-152\t54\n",
            "Námskeið  UAU102F  er kennt í kennslustofu  V02-157\t75\n",
            "Námskeið  TÖL301G  er kennt í kennslustofu  V02-158\t75\n",
            "Námskeið  LEF302G  er kennt í kennslustofu  Gr-F01\t210\n",
            "Námskeið  VÉL114F  er kennt í kennslustofu  A-050\t30\n",
            "Námskeið  VÉL072M  er kennt í kennslustofu  A-051\t24\n",
            "Námskeið  EFN516M  er kennt í kennslustofu  A-052\t36\n",
            "Námskeið  UMV504G  er kennt í kennslustofu  HB-1\t296\n",
            "Námskeið  UMV501M  er kennt í kennslustofu  HB-2\t203\n",
            "Námskeið  UGR102G  er kennt í kennslustofu  HB-3\t142\n",
            "Námskeið  LÍF544G  er kennt í kennslustofu  HB-4\t90\n",
            "Námskeið  UMV302G  er kennt í kennslustofu  HT-101\t60\n",
            "Námskeið  JEÐ504M  er kennt í kennslustofu  HT-102\t180\n",
            "Námskeið  IÐN301G  er kennt í kennslustofu  HT-103\t100\n",
            "Námskeið  EFN114G  er kennt í kennslustofu  HT-104\t100\n",
            "Námskeið  LÍF523G  er kennt í kennslustofu  HT-105\t180\n",
            "Námskeið  TÖL309G  er kennt í kennslustofu  N-132\t150\n",
            "Námskeið  TÖL108G  er kennt í kennslustofu  Gr-F01\t210\n",
            "Námskeið  VÉL502M  er kennt í kennslustofu  A-050\t30\n",
            "Námskeið  UMV502M  er kennt í kennslustofu  A-051\t24\n",
            "Námskeið  VÉL120F  er kennt í kennslustofu  A-052\t36\n",
            "Námskeið  TÖL101G  er kennt í kennslustofu  HB-1\t296\n",
            "Námskeið  UMV122F  er kennt í kennslustofu  HB-2\t203\n",
            "Námskeið  VÉL502G  er kennt í kennslustofu  HB-3\t142\n",
            "Námskeið  UMV036F  er kennt í kennslustofu  HB-4\t90\n",
            "Námskeið  VÉL103M  er kennt í kennslustofu  HT-101\t60\n",
            "Námskeið  UAU128F  er kennt í kennslustofu  HT-102\t180\n",
            "Námskeið  UGR103G  er kennt í kennslustofu  HT-103\t100\n",
            "Námskeið  LEF509M  er kennt í kennslustofu  HT-104\t100\n",
            "Námskeið  LÍF540G  er kennt í kennslustofu  A-050\t30\n",
            "Námskeið  UGR104G  er kennt í kennslustofu  A-051\t24\n",
            "Námskeið  JAR516M  er kennt í kennslustofu  A-052\t36\n",
            "Námskeið  VÉL301G  er kennt í kennslustofu  HB-1\t296\n",
            "Námskeið  VÉL101G  er kennt í kennslustofu  HB-2\t203\n",
            "Námskeið  UMV102G  er kennt í kennslustofu  HB-3\t142\n",
            "Námskeið  VÉL049F  er kennt í kennslustofu  HB-4\t90\n",
            "Námskeið  EÐL515M  er kennt í kennslustofu  HT-101\t60\n",
            "Námskeið  EÐL114F  er kennt í kennslustofu  HT-102\t180\n",
            "Námskeið  UAU107M  er kennt í kennslustofu  HT-103\t100\n",
            "Námskeið  UAU101F  er kennt í kennslustofu  HT-104\t100\n",
            "Námskeið  TÖL303G  er kennt í kennslustofu  HT-105\t180\n"
          ]
        }
      ]
    },
    {
      "cell_type": "markdown",
      "source": [
        "Athuga hvort hverju námskeiði er úthlutað kennslustofu."
      ],
      "metadata": {
        "id": "TIYgqLdJ7Q2x"
      }
    },
    {
      "cell_type": "code",
      "source": [
        "print(\"Fjöldi námskeiða sem fá úthlutaða kennslustofu: \", len(classroom_for_class))\n",
        "print(\"Fjöldi námskeiða: \", len(GG_Haust))\n",
        "if len(classroom_for_class) == len(GG_Haust):\n",
        "  print(\"Öllum námskeiðum var úthlutað kennslustofu\")\n",
        "else:\n",
        "  print(\"Skipting í kennslustofur tókst ekki\")"
      ],
      "metadata": {
        "id": "9IFLazgPrjkB",
        "colab": {
          "base_uri": "https://localhost:8080/"
        },
        "outputId": "30efbede-7c2e-4ed0-bf31-6761a303ed92"
      },
      "execution_count": null,
      "outputs": [
        {
          "output_type": "stream",
          "name": "stdout",
          "text": [
            "Fjöldi námskeiða sem fá úthlutaða kennslustofu:  249\n",
            "Fjöldi námskeiða:  249\n",
            "Öllum námskeiðum var úthlutað kennslustofu\n"
          ]
        }
      ]
    },
    {
      "cell_type": "markdown",
      "source": [
        "(d) Sýnið stundatöflur fyrir valdar námsbrautir/kjörsvið annars vegar og kennslustofur hins vegar. Berið stuttlega saman lausnina sem þið fengið hér við lausnina sem fékkst í 3.3.2."
      ],
      "metadata": {
        "id": "oadqawCmrfVZ"
      }
    },
    {
      "cell_type": "code",
      "source": [
        "# Við búum til stundatöflur fyrir völdu námsbrautirnar eins og að framan\n",
        "\n",
        "time_table2 = [[[],[],[],[],[]],[[],[],[],[],[]],[[],[],[],[],[]],[[],[],[],[],[]],[[],[],[],[],[]]]\n",
        "for x in GGG: # Tímar í fyrri hluta vikunnar\n",
        "    litur = int(litun_Haust[x])\n",
        "    slot = int(litur%5)\n",
        "    day = int((litur-(litur%5))/5)\n",
        "    time_table2[slot][day].append(x)\n",
        "for x in GGG: # Tímar í seinni hluta vikunnar\n",
        "    litur = int(litun_Haust[x])+12\n",
        "    slot = int(litur%5)\n",
        "    day = int((litur-(litur%5))/5)\n",
        "    time_table2[slot][day].append(x)\n",
        "\n",
        "\n",
        "\n",
        "head=[\"mánudagur\", \"þriðjudagur\", \"miðvikudagur\", \"fimmtudagur\", \"föstudagur\"]\n",
        "\n",
        "print(tabulate(time_table2, headers=head, tablefmt=\"grid\"))"
      ],
      "metadata": {
        "id": "TP8UsOolroNw",
        "outputId": "3b009f7c-c91a-4eef-b221-85360c95e27c",
        "colab": {
          "base_uri": "https://localhost:8080/"
        }
      },
      "execution_count": null,
      "outputs": [
        {
          "output_type": "stream",
          "name": "stdout",
          "text": [
            "+------------------------+---------------+------------------------+---------------+--------------+\n",
            "| mánudagur              | þriðjudagur   | miðvikudagur           | fimmtudagur   | föstudagur   |\n",
            "+========================+===============+========================+===============+==============+\n",
            "| []                     | ['TÖL104G']   | []                     | []            | ['TÖL108G']  |\n",
            "+------------------------+---------------+------------------------+---------------+--------------+\n",
            "| []                     | ['HBV101G']   | []                     | ['STÆ105G']   | ['TÖL101G']  |\n",
            "+------------------------+---------------+------------------------+---------------+--------------+\n",
            "| ['STÆ107G', 'TÖL107G'] | ['STÆ104G']   | []                     | ['TÖL104G']   | []           |\n",
            "+------------------------+---------------+------------------------+---------------+--------------+\n",
            "| []                     | ['TÖL108G']   | []                     | ['HBV101G']   | []           |\n",
            "+------------------------+---------------+------------------------+---------------+--------------+\n",
            "| ['STÆ105G']            | ['TÖL101G']   | ['STÆ107G', 'TÖL107G'] | ['STÆ104G']   | []           |\n",
            "+------------------------+---------------+------------------------+---------------+--------------+\n"
          ]
        }
      ]
    },
    {
      "cell_type": "markdown",
      "source": [
        "Og kennslustofurnar yrðu eftirfarandi"
      ],
      "metadata": {
        "id": "N3IJ6UM1rsoD"
      }
    },
    {
      "cell_type": "code",
      "source": [
        "for x in GGG:\n",
        "  print(\"Námskeið \", x,\" er kennt í kennslustofu \", classroom_for_class[x] )"
      ],
      "metadata": {
        "id": "xpWi9W7xrsRr",
        "colab": {
          "base_uri": "https://localhost:8080/"
        },
        "outputId": "abaead44-6ab8-48c3-c2eb-77ab09c727fe"
      },
      "execution_count": null,
      "outputs": [
        {
          "output_type": "stream",
          "name": "stdout",
          "text": [
            "Námskeið  HBV101G  er kennt í kennslustofu  V02-158\t75\n",
            "Námskeið  STÆ104G  er kennt í kennslustofu  HB-1\t296\n",
            "Námskeið  STÆ105G  er kennt í kennslustofu  HT-103\t100\n",
            "Námskeið  STÆ107G  er kennt í kennslustofu  HB-1\t296\n",
            "Námskeið  TÖL101G  er kennt í kennslustofu  HB-1\t296\n",
            "Námskeið  TÖL104G  er kennt í kennslustofu  HB-2\t203\n",
            "Námskeið  TÖL107G  er kennt í kennslustofu  HT-105\t180\n",
            "Námskeið  TÖL108G  er kennt í kennslustofu  Gr-F01\t210\n"
          ]
        }
      ]
    },
    {
      "cell_type": "code",
      "source": [
        "from datetime import datetime,timedelta\n",
        "print(datetime.now()+timedelta(days = 31))"
      ],
      "metadata": {
        "colab": {
          "base_uri": "https://localhost:8080/"
        },
        "id": "zh2nOST1v9Nl",
        "outputId": "90d48107-265e-4738-9305-82deda0872bb"
      },
      "execution_count": null,
      "outputs": [
        {
          "output_type": "stream",
          "name": "stdout",
          "text": [
            "2024-08-04 12:40:03.891896\n"
          ]
        }
      ]
    }
  ]
}
